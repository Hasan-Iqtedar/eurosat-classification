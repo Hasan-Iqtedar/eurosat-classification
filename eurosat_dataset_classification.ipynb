{
  "nbformat": 4,
  "nbformat_minor": 0,
  "metadata": {
    "colab": {
      "name": "EusatHI.ipynb",
      "provenance": [],
      "authorship_tag": "ABX9TyMptgd/4Mfqvs6VXjpaAf56",
      "include_colab_link": true
    },
    "kernelspec": {
      "name": "python3",
      "display_name": "Python 3"
    },
    "accelerator": "GPU",
    "widgets": {
      "application/vnd.jupyter.widget-state+json": {
        "304424075b4843d499343ce4adeae9b5": {
          "model_module": "@jupyter-widgets/controls",
          "model_name": "HBoxModel",
          "state": {
            "_view_name": "HBoxView",
            "_dom_classes": [],
            "_model_name": "HBoxModel",
            "_view_module": "@jupyter-widgets/controls",
            "_model_module_version": "1.5.0",
            "_view_count": null,
            "_view_module_version": "1.5.0",
            "box_style": "",
            "layout": "IPY_MODEL_77ebaa089dc24cae816220d9c40d9fc4",
            "_model_module": "@jupyter-widgets/controls",
            "children": [
              "IPY_MODEL_74d20a4974e34d479e8643bcc4415ebb",
              "IPY_MODEL_df95f85d93a9492ba525774a7db9a20f"
            ]
          }
        },
        "77ebaa089dc24cae816220d9c40d9fc4": {
          "model_module": "@jupyter-widgets/base",
          "model_name": "LayoutModel",
          "state": {
            "_view_name": "LayoutView",
            "grid_template_rows": null,
            "right": null,
            "justify_content": null,
            "_view_module": "@jupyter-widgets/base",
            "overflow": null,
            "_model_module_version": "1.2.0",
            "_view_count": null,
            "flex_flow": null,
            "width": null,
            "min_width": null,
            "border": null,
            "align_items": null,
            "bottom": null,
            "_model_module": "@jupyter-widgets/base",
            "top": null,
            "grid_column": null,
            "overflow_y": null,
            "overflow_x": null,
            "grid_auto_flow": null,
            "grid_area": null,
            "grid_template_columns": null,
            "flex": null,
            "_model_name": "LayoutModel",
            "justify_items": null,
            "grid_row": null,
            "max_height": null,
            "align_content": null,
            "visibility": null,
            "align_self": null,
            "height": null,
            "min_height": null,
            "padding": null,
            "grid_auto_rows": null,
            "grid_gap": null,
            "max_width": null,
            "order": null,
            "_view_module_version": "1.2.0",
            "grid_template_areas": null,
            "object_position": null,
            "object_fit": null,
            "grid_auto_columns": null,
            "margin": null,
            "display": null,
            "left": null
          }
        },
        "74d20a4974e34d479e8643bcc4415ebb": {
          "model_module": "@jupyter-widgets/controls",
          "model_name": "FloatProgressModel",
          "state": {
            "_view_name": "ProgressView",
            "style": "IPY_MODEL_a8d5a8c8abf64076bf2bc89372dc5295",
            "_dom_classes": [],
            "description": "Dl Completed...: 100%",
            "_model_name": "FloatProgressModel",
            "bar_style": "success",
            "max": 1,
            "_view_module": "@jupyter-widgets/controls",
            "_model_module_version": "1.5.0",
            "value": 1,
            "_view_count": null,
            "_view_module_version": "1.5.0",
            "orientation": "horizontal",
            "min": 0,
            "description_tooltip": null,
            "_model_module": "@jupyter-widgets/controls",
            "layout": "IPY_MODEL_b115d4c53d794baabff37f41f4ef3f47"
          }
        },
        "df95f85d93a9492ba525774a7db9a20f": {
          "model_module": "@jupyter-widgets/controls",
          "model_name": "HTMLModel",
          "state": {
            "_view_name": "HTMLView",
            "style": "IPY_MODEL_40fef2bddffe4c35974da23aef2251c1",
            "_dom_classes": [],
            "description": "",
            "_model_name": "HTMLModel",
            "placeholder": "​",
            "_view_module": "@jupyter-widgets/controls",
            "_model_module_version": "1.5.0",
            "value": " 1/1 [00:18&lt;00:00, 18.35s/ url]",
            "_view_count": null,
            "_view_module_version": "1.5.0",
            "description_tooltip": null,
            "_model_module": "@jupyter-widgets/controls",
            "layout": "IPY_MODEL_b8e669a3a72949b599003ab21a3a6325"
          }
        },
        "a8d5a8c8abf64076bf2bc89372dc5295": {
          "model_module": "@jupyter-widgets/controls",
          "model_name": "ProgressStyleModel",
          "state": {
            "_view_name": "StyleView",
            "_model_name": "ProgressStyleModel",
            "description_width": "initial",
            "_view_module": "@jupyter-widgets/base",
            "_model_module_version": "1.5.0",
            "_view_count": null,
            "_view_module_version": "1.2.0",
            "bar_color": null,
            "_model_module": "@jupyter-widgets/controls"
          }
        },
        "b115d4c53d794baabff37f41f4ef3f47": {
          "model_module": "@jupyter-widgets/base",
          "model_name": "LayoutModel",
          "state": {
            "_view_name": "LayoutView",
            "grid_template_rows": null,
            "right": null,
            "justify_content": null,
            "_view_module": "@jupyter-widgets/base",
            "overflow": null,
            "_model_module_version": "1.2.0",
            "_view_count": null,
            "flex_flow": null,
            "width": null,
            "min_width": null,
            "border": null,
            "align_items": null,
            "bottom": null,
            "_model_module": "@jupyter-widgets/base",
            "top": null,
            "grid_column": null,
            "overflow_y": null,
            "overflow_x": null,
            "grid_auto_flow": null,
            "grid_area": null,
            "grid_template_columns": null,
            "flex": null,
            "_model_name": "LayoutModel",
            "justify_items": null,
            "grid_row": null,
            "max_height": null,
            "align_content": null,
            "visibility": null,
            "align_self": null,
            "height": null,
            "min_height": null,
            "padding": null,
            "grid_auto_rows": null,
            "grid_gap": null,
            "max_width": null,
            "order": null,
            "_view_module_version": "1.2.0",
            "grid_template_areas": null,
            "object_position": null,
            "object_fit": null,
            "grid_auto_columns": null,
            "margin": null,
            "display": null,
            "left": null
          }
        },
        "40fef2bddffe4c35974da23aef2251c1": {
          "model_module": "@jupyter-widgets/controls",
          "model_name": "DescriptionStyleModel",
          "state": {
            "_view_name": "StyleView",
            "_model_name": "DescriptionStyleModel",
            "description_width": "",
            "_view_module": "@jupyter-widgets/base",
            "_model_module_version": "1.5.0",
            "_view_count": null,
            "_view_module_version": "1.2.0",
            "_model_module": "@jupyter-widgets/controls"
          }
        },
        "b8e669a3a72949b599003ab21a3a6325": {
          "model_module": "@jupyter-widgets/base",
          "model_name": "LayoutModel",
          "state": {
            "_view_name": "LayoutView",
            "grid_template_rows": null,
            "right": null,
            "justify_content": null,
            "_view_module": "@jupyter-widgets/base",
            "overflow": null,
            "_model_module_version": "1.2.0",
            "_view_count": null,
            "flex_flow": null,
            "width": null,
            "min_width": null,
            "border": null,
            "align_items": null,
            "bottom": null,
            "_model_module": "@jupyter-widgets/base",
            "top": null,
            "grid_column": null,
            "overflow_y": null,
            "overflow_x": null,
            "grid_auto_flow": null,
            "grid_area": null,
            "grid_template_columns": null,
            "flex": null,
            "_model_name": "LayoutModel",
            "justify_items": null,
            "grid_row": null,
            "max_height": null,
            "align_content": null,
            "visibility": null,
            "align_self": null,
            "height": null,
            "min_height": null,
            "padding": null,
            "grid_auto_rows": null,
            "grid_gap": null,
            "max_width": null,
            "order": null,
            "_view_module_version": "1.2.0",
            "grid_template_areas": null,
            "object_position": null,
            "object_fit": null,
            "grid_auto_columns": null,
            "margin": null,
            "display": null,
            "left": null
          }
        },
        "6bbae4b9d50b46909800a8001bc8a384": {
          "model_module": "@jupyter-widgets/controls",
          "model_name": "HBoxModel",
          "state": {
            "_view_name": "HBoxView",
            "_dom_classes": [],
            "_model_name": "HBoxModel",
            "_view_module": "@jupyter-widgets/controls",
            "_model_module_version": "1.5.0",
            "_view_count": null,
            "_view_module_version": "1.5.0",
            "box_style": "",
            "layout": "IPY_MODEL_2bbd3c7e299748f8af396ff70fa75de0",
            "_model_module": "@jupyter-widgets/controls",
            "children": [
              "IPY_MODEL_aaef066f054e4ee8843658aa848d738d",
              "IPY_MODEL_68f0285355964045819ff4a12fd18b6d"
            ]
          }
        },
        "2bbd3c7e299748f8af396ff70fa75de0": {
          "model_module": "@jupyter-widgets/base",
          "model_name": "LayoutModel",
          "state": {
            "_view_name": "LayoutView",
            "grid_template_rows": null,
            "right": null,
            "justify_content": null,
            "_view_module": "@jupyter-widgets/base",
            "overflow": null,
            "_model_module_version": "1.2.0",
            "_view_count": null,
            "flex_flow": null,
            "width": null,
            "min_width": null,
            "border": null,
            "align_items": null,
            "bottom": null,
            "_model_module": "@jupyter-widgets/base",
            "top": null,
            "grid_column": null,
            "overflow_y": null,
            "overflow_x": null,
            "grid_auto_flow": null,
            "grid_area": null,
            "grid_template_columns": null,
            "flex": null,
            "_model_name": "LayoutModel",
            "justify_items": null,
            "grid_row": null,
            "max_height": null,
            "align_content": null,
            "visibility": null,
            "align_self": null,
            "height": null,
            "min_height": null,
            "padding": null,
            "grid_auto_rows": null,
            "grid_gap": null,
            "max_width": null,
            "order": null,
            "_view_module_version": "1.2.0",
            "grid_template_areas": null,
            "object_position": null,
            "object_fit": null,
            "grid_auto_columns": null,
            "margin": null,
            "display": null,
            "left": null
          }
        },
        "aaef066f054e4ee8843658aa848d738d": {
          "model_module": "@jupyter-widgets/controls",
          "model_name": "FloatProgressModel",
          "state": {
            "_view_name": "ProgressView",
            "style": "IPY_MODEL_ad2ab393ebdc450da712c98202083e8e",
            "_dom_classes": [],
            "description": "Dl Size...: 100%",
            "_model_name": "FloatProgressModel",
            "bar_style": "success",
            "max": 1,
            "_view_module": "@jupyter-widgets/controls",
            "_model_module_version": "1.5.0",
            "value": 1,
            "_view_count": null,
            "_view_module_version": "1.5.0",
            "orientation": "horizontal",
            "min": 0,
            "description_tooltip": null,
            "_model_module": "@jupyter-widgets/controls",
            "layout": "IPY_MODEL_cf21b5e14a194f1db8c0854d67c1a181"
          }
        },
        "68f0285355964045819ff4a12fd18b6d": {
          "model_module": "@jupyter-widgets/controls",
          "model_name": "HTMLModel",
          "state": {
            "_view_name": "HTMLView",
            "style": "IPY_MODEL_e018344bf06b49e48cc7a4a53df55753",
            "_dom_classes": [],
            "description": "",
            "_model_name": "HTMLModel",
            "placeholder": "​",
            "_view_module": "@jupyter-widgets/controls",
            "_model_module_version": "1.5.0",
            "value": " 89/89 [00:18&lt;00:00,  4.86 MiB/s]",
            "_view_count": null,
            "_view_module_version": "1.5.0",
            "description_tooltip": null,
            "_model_module": "@jupyter-widgets/controls",
            "layout": "IPY_MODEL_0424f75c470345218e29fc6aaadea078"
          }
        },
        "ad2ab393ebdc450da712c98202083e8e": {
          "model_module": "@jupyter-widgets/controls",
          "model_name": "ProgressStyleModel",
          "state": {
            "_view_name": "StyleView",
            "_model_name": "ProgressStyleModel",
            "description_width": "initial",
            "_view_module": "@jupyter-widgets/base",
            "_model_module_version": "1.5.0",
            "_view_count": null,
            "_view_module_version": "1.2.0",
            "bar_color": null,
            "_model_module": "@jupyter-widgets/controls"
          }
        },
        "cf21b5e14a194f1db8c0854d67c1a181": {
          "model_module": "@jupyter-widgets/base",
          "model_name": "LayoutModel",
          "state": {
            "_view_name": "LayoutView",
            "grid_template_rows": null,
            "right": null,
            "justify_content": null,
            "_view_module": "@jupyter-widgets/base",
            "overflow": null,
            "_model_module_version": "1.2.0",
            "_view_count": null,
            "flex_flow": null,
            "width": null,
            "min_width": null,
            "border": null,
            "align_items": null,
            "bottom": null,
            "_model_module": "@jupyter-widgets/base",
            "top": null,
            "grid_column": null,
            "overflow_y": null,
            "overflow_x": null,
            "grid_auto_flow": null,
            "grid_area": null,
            "grid_template_columns": null,
            "flex": null,
            "_model_name": "LayoutModel",
            "justify_items": null,
            "grid_row": null,
            "max_height": null,
            "align_content": null,
            "visibility": null,
            "align_self": null,
            "height": null,
            "min_height": null,
            "padding": null,
            "grid_auto_rows": null,
            "grid_gap": null,
            "max_width": null,
            "order": null,
            "_view_module_version": "1.2.0",
            "grid_template_areas": null,
            "object_position": null,
            "object_fit": null,
            "grid_auto_columns": null,
            "margin": null,
            "display": null,
            "left": null
          }
        },
        "e018344bf06b49e48cc7a4a53df55753": {
          "model_module": "@jupyter-widgets/controls",
          "model_name": "DescriptionStyleModel",
          "state": {
            "_view_name": "StyleView",
            "_model_name": "DescriptionStyleModel",
            "description_width": "",
            "_view_module": "@jupyter-widgets/base",
            "_model_module_version": "1.5.0",
            "_view_count": null,
            "_view_module_version": "1.2.0",
            "_model_module": "@jupyter-widgets/controls"
          }
        },
        "0424f75c470345218e29fc6aaadea078": {
          "model_module": "@jupyter-widgets/base",
          "model_name": "LayoutModel",
          "state": {
            "_view_name": "LayoutView",
            "grid_template_rows": null,
            "right": null,
            "justify_content": null,
            "_view_module": "@jupyter-widgets/base",
            "overflow": null,
            "_model_module_version": "1.2.0",
            "_view_count": null,
            "flex_flow": null,
            "width": null,
            "min_width": null,
            "border": null,
            "align_items": null,
            "bottom": null,
            "_model_module": "@jupyter-widgets/base",
            "top": null,
            "grid_column": null,
            "overflow_y": null,
            "overflow_x": null,
            "grid_auto_flow": null,
            "grid_area": null,
            "grid_template_columns": null,
            "flex": null,
            "_model_name": "LayoutModel",
            "justify_items": null,
            "grid_row": null,
            "max_height": null,
            "align_content": null,
            "visibility": null,
            "align_self": null,
            "height": null,
            "min_height": null,
            "padding": null,
            "grid_auto_rows": null,
            "grid_gap": null,
            "max_width": null,
            "order": null,
            "_view_module_version": "1.2.0",
            "grid_template_areas": null,
            "object_position": null,
            "object_fit": null,
            "grid_auto_columns": null,
            "margin": null,
            "display": null,
            "left": null
          }
        },
        "5fb2afcd23f841a39c1387486ab758d0": {
          "model_module": "@jupyter-widgets/controls",
          "model_name": "HBoxModel",
          "state": {
            "_view_name": "HBoxView",
            "_dom_classes": [],
            "_model_name": "HBoxModel",
            "_view_module": "@jupyter-widgets/controls",
            "_model_module_version": "1.5.0",
            "_view_count": null,
            "_view_module_version": "1.5.0",
            "box_style": "",
            "layout": "IPY_MODEL_e750a03a74be42029a805d719fe23ceb",
            "_model_module": "@jupyter-widgets/controls",
            "children": [
              "IPY_MODEL_a379ac9274dd46dba1cbb5a790d9d773",
              "IPY_MODEL_d9c34f293783408989a49ceae39ffb2f"
            ]
          }
        },
        "e750a03a74be42029a805d719fe23ceb": {
          "model_module": "@jupyter-widgets/base",
          "model_name": "LayoutModel",
          "state": {
            "_view_name": "LayoutView",
            "grid_template_rows": null,
            "right": null,
            "justify_content": null,
            "_view_module": "@jupyter-widgets/base",
            "overflow": null,
            "_model_module_version": "1.2.0",
            "_view_count": null,
            "flex_flow": null,
            "width": null,
            "min_width": null,
            "border": null,
            "align_items": null,
            "bottom": null,
            "_model_module": "@jupyter-widgets/base",
            "top": null,
            "grid_column": null,
            "overflow_y": null,
            "overflow_x": null,
            "grid_auto_flow": null,
            "grid_area": null,
            "grid_template_columns": null,
            "flex": null,
            "_model_name": "LayoutModel",
            "justify_items": null,
            "grid_row": null,
            "max_height": null,
            "align_content": null,
            "visibility": null,
            "align_self": null,
            "height": null,
            "min_height": null,
            "padding": null,
            "grid_auto_rows": null,
            "grid_gap": null,
            "max_width": null,
            "order": null,
            "_view_module_version": "1.2.0",
            "grid_template_areas": null,
            "object_position": null,
            "object_fit": null,
            "grid_auto_columns": null,
            "margin": null,
            "display": null,
            "left": null
          }
        },
        "a379ac9274dd46dba1cbb5a790d9d773": {
          "model_module": "@jupyter-widgets/controls",
          "model_name": "FloatProgressModel",
          "state": {
            "_view_name": "ProgressView",
            "style": "IPY_MODEL_de0bb7d309db4c5fa8e0f5866449fdf5",
            "_dom_classes": [],
            "description": "Extraction completed...: 100%",
            "_model_name": "FloatProgressModel",
            "bar_style": "success",
            "max": 1,
            "_view_module": "@jupyter-widgets/controls",
            "_model_module_version": "1.5.0",
            "value": 1,
            "_view_count": null,
            "_view_module_version": "1.5.0",
            "orientation": "horizontal",
            "min": 0,
            "description_tooltip": null,
            "_model_module": "@jupyter-widgets/controls",
            "layout": "IPY_MODEL_5691cbc32a61442d857d00e52d964fcb"
          }
        },
        "d9c34f293783408989a49ceae39ffb2f": {
          "model_module": "@jupyter-widgets/controls",
          "model_name": "HTMLModel",
          "state": {
            "_view_name": "HTMLView",
            "style": "IPY_MODEL_e503d25818c44fab829cb038a037bfc3",
            "_dom_classes": [],
            "description": "",
            "_model_name": "HTMLModel",
            "placeholder": "​",
            "_view_module": "@jupyter-widgets/controls",
            "_model_module_version": "1.5.0",
            "value": " 1/1 [00:18&lt;00:00, 18.26s/ file]",
            "_view_count": null,
            "_view_module_version": "1.5.0",
            "description_tooltip": null,
            "_model_module": "@jupyter-widgets/controls",
            "layout": "IPY_MODEL_474a95cde5284367b91509afafa877e5"
          }
        },
        "de0bb7d309db4c5fa8e0f5866449fdf5": {
          "model_module": "@jupyter-widgets/controls",
          "model_name": "ProgressStyleModel",
          "state": {
            "_view_name": "StyleView",
            "_model_name": "ProgressStyleModel",
            "description_width": "initial",
            "_view_module": "@jupyter-widgets/base",
            "_model_module_version": "1.5.0",
            "_view_count": null,
            "_view_module_version": "1.2.0",
            "bar_color": null,
            "_model_module": "@jupyter-widgets/controls"
          }
        },
        "5691cbc32a61442d857d00e52d964fcb": {
          "model_module": "@jupyter-widgets/base",
          "model_name": "LayoutModel",
          "state": {
            "_view_name": "LayoutView",
            "grid_template_rows": null,
            "right": null,
            "justify_content": null,
            "_view_module": "@jupyter-widgets/base",
            "overflow": null,
            "_model_module_version": "1.2.0",
            "_view_count": null,
            "flex_flow": null,
            "width": null,
            "min_width": null,
            "border": null,
            "align_items": null,
            "bottom": null,
            "_model_module": "@jupyter-widgets/base",
            "top": null,
            "grid_column": null,
            "overflow_y": null,
            "overflow_x": null,
            "grid_auto_flow": null,
            "grid_area": null,
            "grid_template_columns": null,
            "flex": null,
            "_model_name": "LayoutModel",
            "justify_items": null,
            "grid_row": null,
            "max_height": null,
            "align_content": null,
            "visibility": null,
            "align_self": null,
            "height": null,
            "min_height": null,
            "padding": null,
            "grid_auto_rows": null,
            "grid_gap": null,
            "max_width": null,
            "order": null,
            "_view_module_version": "1.2.0",
            "grid_template_areas": null,
            "object_position": null,
            "object_fit": null,
            "grid_auto_columns": null,
            "margin": null,
            "display": null,
            "left": null
          }
        },
        "e503d25818c44fab829cb038a037bfc3": {
          "model_module": "@jupyter-widgets/controls",
          "model_name": "DescriptionStyleModel",
          "state": {
            "_view_name": "StyleView",
            "_model_name": "DescriptionStyleModel",
            "description_width": "",
            "_view_module": "@jupyter-widgets/base",
            "_model_module_version": "1.5.0",
            "_view_count": null,
            "_view_module_version": "1.2.0",
            "_model_module": "@jupyter-widgets/controls"
          }
        },
        "474a95cde5284367b91509afafa877e5": {
          "model_module": "@jupyter-widgets/base",
          "model_name": "LayoutModel",
          "state": {
            "_view_name": "LayoutView",
            "grid_template_rows": null,
            "right": null,
            "justify_content": null,
            "_view_module": "@jupyter-widgets/base",
            "overflow": null,
            "_model_module_version": "1.2.0",
            "_view_count": null,
            "flex_flow": null,
            "width": null,
            "min_width": null,
            "border": null,
            "align_items": null,
            "bottom": null,
            "_model_module": "@jupyter-widgets/base",
            "top": null,
            "grid_column": null,
            "overflow_y": null,
            "overflow_x": null,
            "grid_auto_flow": null,
            "grid_area": null,
            "grid_template_columns": null,
            "flex": null,
            "_model_name": "LayoutModel",
            "justify_items": null,
            "grid_row": null,
            "max_height": null,
            "align_content": null,
            "visibility": null,
            "align_self": null,
            "height": null,
            "min_height": null,
            "padding": null,
            "grid_auto_rows": null,
            "grid_gap": null,
            "max_width": null,
            "order": null,
            "_view_module_version": "1.2.0",
            "grid_template_areas": null,
            "object_position": null,
            "object_fit": null,
            "grid_auto_columns": null,
            "margin": null,
            "display": null,
            "left": null
          }
        },
        "85b324595ee348e68fe659e2af427ec7": {
          "model_module": "@jupyter-widgets/controls",
          "model_name": "HBoxModel",
          "state": {
            "_view_name": "HBoxView",
            "_dom_classes": [],
            "_model_name": "HBoxModel",
            "_view_module": "@jupyter-widgets/controls",
            "_model_module_version": "1.5.0",
            "_view_count": null,
            "_view_module_version": "1.5.0",
            "box_style": "",
            "layout": "IPY_MODEL_3f0f922eba754187aef329a8ebac2e05",
            "_model_module": "@jupyter-widgets/controls",
            "children": [
              "IPY_MODEL_8d44afff73b04739a9ad3676c93e1615",
              "IPY_MODEL_0c4c4d858c7042309131d599b9cd7dc3"
            ]
          }
        },
        "3f0f922eba754187aef329a8ebac2e05": {
          "model_module": "@jupyter-widgets/base",
          "model_name": "LayoutModel",
          "state": {
            "_view_name": "LayoutView",
            "grid_template_rows": null,
            "right": null,
            "justify_content": null,
            "_view_module": "@jupyter-widgets/base",
            "overflow": null,
            "_model_module_version": "1.2.0",
            "_view_count": null,
            "flex_flow": null,
            "width": null,
            "min_width": null,
            "border": null,
            "align_items": null,
            "bottom": null,
            "_model_module": "@jupyter-widgets/base",
            "top": null,
            "grid_column": null,
            "overflow_y": null,
            "overflow_x": null,
            "grid_auto_flow": null,
            "grid_area": null,
            "grid_template_columns": null,
            "flex": null,
            "_model_name": "LayoutModel",
            "justify_items": null,
            "grid_row": null,
            "max_height": null,
            "align_content": null,
            "visibility": null,
            "align_self": null,
            "height": null,
            "min_height": null,
            "padding": null,
            "grid_auto_rows": null,
            "grid_gap": null,
            "max_width": null,
            "order": null,
            "_view_module_version": "1.2.0",
            "grid_template_areas": null,
            "object_position": null,
            "object_fit": null,
            "grid_auto_columns": null,
            "margin": null,
            "display": null,
            "left": null
          }
        },
        "8d44afff73b04739a9ad3676c93e1615": {
          "model_module": "@jupyter-widgets/controls",
          "model_name": "FloatProgressModel",
          "state": {
            "_view_name": "ProgressView",
            "style": "IPY_MODEL_399a6eef784c40d79cb6593cef43ac35",
            "_dom_classes": [],
            "description": "",
            "_model_name": "FloatProgressModel",
            "bar_style": "info",
            "max": 1,
            "_view_module": "@jupyter-widgets/controls",
            "_model_module_version": "1.5.0",
            "value": 1,
            "_view_count": null,
            "_view_module_version": "1.5.0",
            "orientation": "horizontal",
            "min": 0,
            "description_tooltip": null,
            "_model_module": "@jupyter-widgets/controls",
            "layout": "IPY_MODEL_af693b7a8c3b4872832949b57d60454f"
          }
        },
        "0c4c4d858c7042309131d599b9cd7dc3": {
          "model_module": "@jupyter-widgets/controls",
          "model_name": "HTMLModel",
          "state": {
            "_view_name": "HTMLView",
            "style": "IPY_MODEL_c43147cef1a7488fafd347f685c21812",
            "_dom_classes": [],
            "description": "",
            "_model_name": "HTMLModel",
            "placeholder": "​",
            "_view_module": "@jupyter-widgets/controls",
            "_model_module_version": "1.5.0",
            "value": " 27000/0 [00:16&lt;00:00, 1635.32 examples/s]",
            "_view_count": null,
            "_view_module_version": "1.5.0",
            "description_tooltip": null,
            "_model_module": "@jupyter-widgets/controls",
            "layout": "IPY_MODEL_f3dd1444a3c04629b85d81424c22e4d5"
          }
        },
        "399a6eef784c40d79cb6593cef43ac35": {
          "model_module": "@jupyter-widgets/controls",
          "model_name": "ProgressStyleModel",
          "state": {
            "_view_name": "StyleView",
            "_model_name": "ProgressStyleModel",
            "description_width": "initial",
            "_view_module": "@jupyter-widgets/base",
            "_model_module_version": "1.5.0",
            "_view_count": null,
            "_view_module_version": "1.2.0",
            "bar_color": null,
            "_model_module": "@jupyter-widgets/controls"
          }
        },
        "af693b7a8c3b4872832949b57d60454f": {
          "model_module": "@jupyter-widgets/base",
          "model_name": "LayoutModel",
          "state": {
            "_view_name": "LayoutView",
            "grid_template_rows": null,
            "right": null,
            "justify_content": null,
            "_view_module": "@jupyter-widgets/base",
            "overflow": null,
            "_model_module_version": "1.2.0",
            "_view_count": null,
            "flex_flow": null,
            "width": null,
            "min_width": null,
            "border": null,
            "align_items": null,
            "bottom": null,
            "_model_module": "@jupyter-widgets/base",
            "top": null,
            "grid_column": null,
            "overflow_y": null,
            "overflow_x": null,
            "grid_auto_flow": null,
            "grid_area": null,
            "grid_template_columns": null,
            "flex": null,
            "_model_name": "LayoutModel",
            "justify_items": null,
            "grid_row": null,
            "max_height": null,
            "align_content": null,
            "visibility": null,
            "align_self": null,
            "height": null,
            "min_height": null,
            "padding": null,
            "grid_auto_rows": null,
            "grid_gap": null,
            "max_width": null,
            "order": null,
            "_view_module_version": "1.2.0",
            "grid_template_areas": null,
            "object_position": null,
            "object_fit": null,
            "grid_auto_columns": null,
            "margin": null,
            "display": null,
            "left": null
          }
        },
        "c43147cef1a7488fafd347f685c21812": {
          "model_module": "@jupyter-widgets/controls",
          "model_name": "DescriptionStyleModel",
          "state": {
            "_view_name": "StyleView",
            "_model_name": "DescriptionStyleModel",
            "description_width": "",
            "_view_module": "@jupyter-widgets/base",
            "_model_module_version": "1.5.0",
            "_view_count": null,
            "_view_module_version": "1.2.0",
            "_model_module": "@jupyter-widgets/controls"
          }
        },
        "f3dd1444a3c04629b85d81424c22e4d5": {
          "model_module": "@jupyter-widgets/base",
          "model_name": "LayoutModel",
          "state": {
            "_view_name": "LayoutView",
            "grid_template_rows": null,
            "right": null,
            "justify_content": null,
            "_view_module": "@jupyter-widgets/base",
            "overflow": null,
            "_model_module_version": "1.2.0",
            "_view_count": null,
            "flex_flow": null,
            "width": null,
            "min_width": null,
            "border": null,
            "align_items": null,
            "bottom": null,
            "_model_module": "@jupyter-widgets/base",
            "top": null,
            "grid_column": null,
            "overflow_y": null,
            "overflow_x": null,
            "grid_auto_flow": null,
            "grid_area": null,
            "grid_template_columns": null,
            "flex": null,
            "_model_name": "LayoutModel",
            "justify_items": null,
            "grid_row": null,
            "max_height": null,
            "align_content": null,
            "visibility": null,
            "align_self": null,
            "height": null,
            "min_height": null,
            "padding": null,
            "grid_auto_rows": null,
            "grid_gap": null,
            "max_width": null,
            "order": null,
            "_view_module_version": "1.2.0",
            "grid_template_areas": null,
            "object_position": null,
            "object_fit": null,
            "grid_auto_columns": null,
            "margin": null,
            "display": null,
            "left": null
          }
        },
        "fa2cdbe1d0bd4e7ba856e9092295224d": {
          "model_module": "@jupyter-widgets/controls",
          "model_name": "HBoxModel",
          "state": {
            "_view_name": "HBoxView",
            "_dom_classes": [],
            "_model_name": "HBoxModel",
            "_view_module": "@jupyter-widgets/controls",
            "_model_module_version": "1.5.0",
            "_view_count": null,
            "_view_module_version": "1.5.0",
            "box_style": "",
            "layout": "IPY_MODEL_51cb9c90b2124ec29fddd53dd4fb2452",
            "_model_module": "@jupyter-widgets/controls",
            "children": [
              "IPY_MODEL_c850b17ca7534b9994dfcd9088100cd9",
              "IPY_MODEL_27a5c952d535495b85f46c98ba64cb0b"
            ]
          }
        },
        "51cb9c90b2124ec29fddd53dd4fb2452": {
          "model_module": "@jupyter-widgets/base",
          "model_name": "LayoutModel",
          "state": {
            "_view_name": "LayoutView",
            "grid_template_rows": null,
            "right": null,
            "justify_content": null,
            "_view_module": "@jupyter-widgets/base",
            "overflow": null,
            "_model_module_version": "1.2.0",
            "_view_count": null,
            "flex_flow": null,
            "width": null,
            "min_width": null,
            "border": null,
            "align_items": null,
            "bottom": null,
            "_model_module": "@jupyter-widgets/base",
            "top": null,
            "grid_column": null,
            "overflow_y": null,
            "overflow_x": null,
            "grid_auto_flow": null,
            "grid_area": null,
            "grid_template_columns": null,
            "flex": null,
            "_model_name": "LayoutModel",
            "justify_items": null,
            "grid_row": null,
            "max_height": null,
            "align_content": null,
            "visibility": null,
            "align_self": null,
            "height": null,
            "min_height": null,
            "padding": null,
            "grid_auto_rows": null,
            "grid_gap": null,
            "max_width": null,
            "order": null,
            "_view_module_version": "1.2.0",
            "grid_template_areas": null,
            "object_position": null,
            "object_fit": null,
            "grid_auto_columns": null,
            "margin": null,
            "display": null,
            "left": null
          }
        },
        "c850b17ca7534b9994dfcd9088100cd9": {
          "model_module": "@jupyter-widgets/controls",
          "model_name": "FloatProgressModel",
          "state": {
            "_view_name": "ProgressView",
            "style": "IPY_MODEL_4b3c47f28830460584f853e017235100",
            "_dom_classes": [],
            "description": " 74%",
            "_model_name": "FloatProgressModel",
            "bar_style": "danger",
            "max": 27000,
            "_view_module": "@jupyter-widgets/controls",
            "_model_module_version": "1.5.0",
            "value": 20096,
            "_view_count": null,
            "_view_module_version": "1.5.0",
            "orientation": "horizontal",
            "min": 0,
            "description_tooltip": null,
            "_model_module": "@jupyter-widgets/controls",
            "layout": "IPY_MODEL_4800c91b98724ccc8fc510a54c073abc"
          }
        },
        "27a5c952d535495b85f46c98ba64cb0b": {
          "model_module": "@jupyter-widgets/controls",
          "model_name": "HTMLModel",
          "state": {
            "_view_name": "HTMLView",
            "style": "IPY_MODEL_b553134474fc40378a2929810a56ffb6",
            "_dom_classes": [],
            "description": "",
            "_model_name": "HTMLModel",
            "placeholder": "​",
            "_view_module": "@jupyter-widgets/controls",
            "_model_module_version": "1.5.0",
            "value": " 20096/27000 [00:00&lt;00:00, 47250.10 examples/s]",
            "_view_count": null,
            "_view_module_version": "1.5.0",
            "description_tooltip": null,
            "_model_module": "@jupyter-widgets/controls",
            "layout": "IPY_MODEL_cbfd192975b441479b54568c59a727c2"
          }
        },
        "4b3c47f28830460584f853e017235100": {
          "model_module": "@jupyter-widgets/controls",
          "model_name": "ProgressStyleModel",
          "state": {
            "_view_name": "StyleView",
            "_model_name": "ProgressStyleModel",
            "description_width": "initial",
            "_view_module": "@jupyter-widgets/base",
            "_model_module_version": "1.5.0",
            "_view_count": null,
            "_view_module_version": "1.2.0",
            "bar_color": null,
            "_model_module": "@jupyter-widgets/controls"
          }
        },
        "4800c91b98724ccc8fc510a54c073abc": {
          "model_module": "@jupyter-widgets/base",
          "model_name": "LayoutModel",
          "state": {
            "_view_name": "LayoutView",
            "grid_template_rows": null,
            "right": null,
            "justify_content": null,
            "_view_module": "@jupyter-widgets/base",
            "overflow": null,
            "_model_module_version": "1.2.0",
            "_view_count": null,
            "flex_flow": null,
            "width": null,
            "min_width": null,
            "border": null,
            "align_items": null,
            "bottom": null,
            "_model_module": "@jupyter-widgets/base",
            "top": null,
            "grid_column": null,
            "overflow_y": null,
            "overflow_x": null,
            "grid_auto_flow": null,
            "grid_area": null,
            "grid_template_columns": null,
            "flex": null,
            "_model_name": "LayoutModel",
            "justify_items": null,
            "grid_row": null,
            "max_height": null,
            "align_content": null,
            "visibility": null,
            "align_self": null,
            "height": null,
            "min_height": null,
            "padding": null,
            "grid_auto_rows": null,
            "grid_gap": null,
            "max_width": null,
            "order": null,
            "_view_module_version": "1.2.0",
            "grid_template_areas": null,
            "object_position": null,
            "object_fit": null,
            "grid_auto_columns": null,
            "margin": null,
            "display": null,
            "left": null
          }
        },
        "b553134474fc40378a2929810a56ffb6": {
          "model_module": "@jupyter-widgets/controls",
          "model_name": "DescriptionStyleModel",
          "state": {
            "_view_name": "StyleView",
            "_model_name": "DescriptionStyleModel",
            "description_width": "",
            "_view_module": "@jupyter-widgets/base",
            "_model_module_version": "1.5.0",
            "_view_count": null,
            "_view_module_version": "1.2.0",
            "_model_module": "@jupyter-widgets/controls"
          }
        },
        "cbfd192975b441479b54568c59a727c2": {
          "model_module": "@jupyter-widgets/base",
          "model_name": "LayoutModel",
          "state": {
            "_view_name": "LayoutView",
            "grid_template_rows": null,
            "right": null,
            "justify_content": null,
            "_view_module": "@jupyter-widgets/base",
            "overflow": null,
            "_model_module_version": "1.2.0",
            "_view_count": null,
            "flex_flow": null,
            "width": null,
            "min_width": null,
            "border": null,
            "align_items": null,
            "bottom": null,
            "_model_module": "@jupyter-widgets/base",
            "top": null,
            "grid_column": null,
            "overflow_y": null,
            "overflow_x": null,
            "grid_auto_flow": null,
            "grid_area": null,
            "grid_template_columns": null,
            "flex": null,
            "_model_name": "LayoutModel",
            "justify_items": null,
            "grid_row": null,
            "max_height": null,
            "align_content": null,
            "visibility": null,
            "align_self": null,
            "height": null,
            "min_height": null,
            "padding": null,
            "grid_auto_rows": null,
            "grid_gap": null,
            "max_width": null,
            "order": null,
            "_view_module_version": "1.2.0",
            "grid_template_areas": null,
            "object_position": null,
            "object_fit": null,
            "grid_auto_columns": null,
            "margin": null,
            "display": null,
            "left": null
          }
        }
      }
    }
  },
  "cells": [
    {
      "cell_type": "markdown",
      "metadata": {
        "id": "view-in-github",
        "colab_type": "text"
      },
      "source": [
        "<a href=\"https://colab.research.google.com/github/Hasan-Iqtedar/EuroSAT-classification/blob/master/EusatHI.ipynb\" target=\"_parent\"><img src=\"https://colab.research.google.com/assets/colab-badge.svg\" alt=\"Open In Colab\"/></a>"
      ]
    },
    {
      "cell_type": "code",
      "metadata": {
        "id": "oYd5hQAeQ4oZ",
        "colab": {
          "base_uri": "https://localhost:8080/",
          "height": 904
        },
        "outputId": "85ca368a-8b47-47d9-a06d-d0cfd6051228"
      },
      "source": [
        "#Using tensorflow 1\n",
        "!pip install tensorflow==1.15.0\n",
        "\n",
        "print('Hello World')"
      ],
      "execution_count": null,
      "outputs": [
        {
          "output_type": "stream",
          "text": [
            "Collecting tensorflow==1.15.0\n",
            "\u001b[?25l  Downloading https://files.pythonhosted.org/packages/3f/98/5a99af92fb911d7a88a0005ad55005f35b4c1ba8d75fba02df726cd936e6/tensorflow-1.15.0-cp36-cp36m-manylinux2010_x86_64.whl (412.3MB)\n",
            "\u001b[K     |████████████████████████████████| 412.3MB 41kB/s \n",
            "\u001b[?25hRequirement already satisfied: numpy<2.0,>=1.16.0 in /usr/local/lib/python3.6/dist-packages (from tensorflow==1.15.0) (1.18.5)\n",
            "Requirement already satisfied: protobuf>=3.6.1 in /usr/local/lib/python3.6/dist-packages (from tensorflow==1.15.0) (3.12.2)\n",
            "Requirement already satisfied: google-pasta>=0.1.6 in /usr/local/lib/python3.6/dist-packages (from tensorflow==1.15.0) (0.2.0)\n",
            "Collecting gast==0.2.2\n",
            "  Downloading https://files.pythonhosted.org/packages/4e/35/11749bf99b2d4e3cceb4d55ca22590b0d7c2c62b9de38ac4a4a7f4687421/gast-0.2.2.tar.gz\n",
            "Requirement already satisfied: wrapt>=1.11.1 in /usr/local/lib/python3.6/dist-packages (from tensorflow==1.15.0) (1.12.1)\n",
            "Requirement already satisfied: grpcio>=1.8.6 in /usr/local/lib/python3.6/dist-packages (from tensorflow==1.15.0) (1.30.0)\n",
            "Collecting tensorboard<1.16.0,>=1.15.0\n",
            "\u001b[?25l  Downloading https://files.pythonhosted.org/packages/1e/e9/d3d747a97f7188f48aa5eda486907f3b345cd409f0a0850468ba867db246/tensorboard-1.15.0-py3-none-any.whl (3.8MB)\n",
            "\u001b[K     |████████████████████████████████| 3.8MB 25.8MB/s \n",
            "\u001b[?25hCollecting tensorflow-estimator==1.15.1\n",
            "\u001b[?25l  Downloading https://files.pythonhosted.org/packages/de/62/2ee9cd74c9fa2fa450877847ba560b260f5d0fb70ee0595203082dafcc9d/tensorflow_estimator-1.15.1-py2.py3-none-any.whl (503kB)\n",
            "\u001b[K     |████████████████████████████████| 512kB 39.0MB/s \n",
            "\u001b[?25hRequirement already satisfied: opt-einsum>=2.3.2 in /usr/local/lib/python3.6/dist-packages (from tensorflow==1.15.0) (3.3.0)\n",
            "Requirement already satisfied: keras-applications>=1.0.8 in /usr/local/lib/python3.6/dist-packages (from tensorflow==1.15.0) (1.0.8)\n",
            "Requirement already satisfied: absl-py>=0.7.0 in /usr/local/lib/python3.6/dist-packages (from tensorflow==1.15.0) (0.9.0)\n",
            "Requirement already satisfied: astor>=0.6.0 in /usr/local/lib/python3.6/dist-packages (from tensorflow==1.15.0) (0.8.1)\n",
            "Requirement already satisfied: wheel>=0.26 in /usr/local/lib/python3.6/dist-packages (from tensorflow==1.15.0) (0.34.2)\n",
            "Requirement already satisfied: termcolor>=1.1.0 in /usr/local/lib/python3.6/dist-packages (from tensorflow==1.15.0) (1.1.0)\n",
            "Requirement already satisfied: six>=1.10.0 in /usr/local/lib/python3.6/dist-packages (from tensorflow==1.15.0) (1.15.0)\n",
            "Requirement already satisfied: keras-preprocessing>=1.0.5 in /usr/local/lib/python3.6/dist-packages (from tensorflow==1.15.0) (1.1.2)\n",
            "Requirement already satisfied: setuptools in /usr/local/lib/python3.6/dist-packages (from protobuf>=3.6.1->tensorflow==1.15.0) (49.1.0)\n",
            "Requirement already satisfied: markdown>=2.6.8 in /usr/local/lib/python3.6/dist-packages (from tensorboard<1.16.0,>=1.15.0->tensorflow==1.15.0) (3.2.2)\n",
            "Requirement already satisfied: werkzeug>=0.11.15 in /usr/local/lib/python3.6/dist-packages (from tensorboard<1.16.0,>=1.15.0->tensorflow==1.15.0) (1.0.1)\n",
            "Requirement already satisfied: h5py in /usr/local/lib/python3.6/dist-packages (from keras-applications>=1.0.8->tensorflow==1.15.0) (2.10.0)\n",
            "Requirement already satisfied: importlib-metadata; python_version < \"3.8\" in /usr/local/lib/python3.6/dist-packages (from markdown>=2.6.8->tensorboard<1.16.0,>=1.15.0->tensorflow==1.15.0) (1.7.0)\n",
            "Requirement already satisfied: zipp>=0.5 in /usr/local/lib/python3.6/dist-packages (from importlib-metadata; python_version < \"3.8\"->markdown>=2.6.8->tensorboard<1.16.0,>=1.15.0->tensorflow==1.15.0) (3.1.0)\n",
            "Building wheels for collected packages: gast\n",
            "  Building wheel for gast (setup.py) ... \u001b[?25l\u001b[?25hdone\n",
            "  Created wheel for gast: filename=gast-0.2.2-cp36-none-any.whl size=7540 sha256=8ae2b405e312abaad1e378285c17d794998a04b9ef82de6cb2badffe12350605\n",
            "  Stored in directory: /root/.cache/pip/wheels/5c/2e/7e/a1d4d4fcebe6c381f378ce7743a3ced3699feb89bcfbdadadd\n",
            "Successfully built gast\n",
            "\u001b[31mERROR: tensorflow-probability 0.10.0 has requirement gast>=0.3.2, but you'll have gast 0.2.2 which is incompatible.\u001b[0m\n",
            "Installing collected packages: gast, tensorboard, tensorflow-estimator, tensorflow\n",
            "  Found existing installation: gast 0.3.3\n",
            "    Uninstalling gast-0.3.3:\n",
            "      Successfully uninstalled gast-0.3.3\n",
            "  Found existing installation: tensorboard 2.2.2\n",
            "    Uninstalling tensorboard-2.2.2:\n",
            "      Successfully uninstalled tensorboard-2.2.2\n",
            "  Found existing installation: tensorflow-estimator 2.2.0\n",
            "    Uninstalling tensorflow-estimator-2.2.0:\n",
            "      Successfully uninstalled tensorflow-estimator-2.2.0\n",
            "  Found existing installation: tensorflow 2.2.0\n",
            "    Uninstalling tensorflow-2.2.0:\n",
            "      Successfully uninstalled tensorflow-2.2.0\n",
            "Successfully installed gast-0.2.2 tensorboard-1.15.0 tensorflow-1.15.0 tensorflow-estimator-1.15.1\n",
            "Hello World\n"
          ],
          "name": "stdout"
        }
      ]
    },
    {
      "cell_type": "code",
      "metadata": {
        "id": "iHq8-GpeR31X",
        "colab": {
          "base_uri": "https://localhost:8080/",
          "height": 51
        },
        "outputId": "a7e72807-3ee3-47ba-978b-dec940a96ba5"
      },
      "source": [
        "#Testing tf.\n",
        "import tensorflow as tf\n",
        "a = tf.constant(2)\n",
        "b = tf.constant(3)\n",
        "\n",
        "c = a*b\n",
        "\n",
        "print(tf.__version__)\n",
        "\n",
        "with tf.Session() as sess:\n",
        "  print(sess.run(c))"
      ],
      "execution_count": null,
      "outputs": [
        {
          "output_type": "stream",
          "text": [
            "1.15.0\n",
            "6\n"
          ],
          "name": "stdout"
        }
      ]
    },
    {
      "cell_type": "code",
      "metadata": {
        "id": "3hfNqYfbU7CF",
        "colab": {
          "base_uri": "https://localhost:8080/",
          "height": 377
        },
        "outputId": "e17ec738-cbc6-4f68-fec9-86739e9a57e2"
      },
      "source": [
        "pip install tensorflow-datasets"
      ],
      "execution_count": null,
      "outputs": [
        {
          "output_type": "stream",
          "text": [
            "Requirement already satisfied: tensorflow-datasets in /usr/local/lib/python3.6/dist-packages (2.1.0)\n",
            "Requirement already satisfied: requests>=2.19.0 in /usr/local/lib/python3.6/dist-packages (from tensorflow-datasets) (2.23.0)\n",
            "Requirement already satisfied: termcolor in /usr/local/lib/python3.6/dist-packages (from tensorflow-datasets) (1.1.0)\n",
            "Requirement already satisfied: future in /usr/local/lib/python3.6/dist-packages (from tensorflow-datasets) (0.16.0)\n",
            "Requirement already satisfied: dill in /usr/local/lib/python3.6/dist-packages (from tensorflow-datasets) (0.3.2)\n",
            "Requirement already satisfied: six in /usr/local/lib/python3.6/dist-packages (from tensorflow-datasets) (1.15.0)\n",
            "Requirement already satisfied: wrapt in /usr/local/lib/python3.6/dist-packages (from tensorflow-datasets) (1.12.1)\n",
            "Requirement already satisfied: tqdm in /usr/local/lib/python3.6/dist-packages (from tensorflow-datasets) (4.41.1)\n",
            "Requirement already satisfied: attrs>=18.1.0 in /usr/local/lib/python3.6/dist-packages (from tensorflow-datasets) (19.3.0)\n",
            "Requirement already satisfied: absl-py in /usr/local/lib/python3.6/dist-packages (from tensorflow-datasets) (0.9.0)\n",
            "Requirement already satisfied: protobuf>=3.6.1 in /usr/local/lib/python3.6/dist-packages (from tensorflow-datasets) (3.12.2)\n",
            "Requirement already satisfied: tensorflow-metadata in /usr/local/lib/python3.6/dist-packages (from tensorflow-datasets) (0.22.2)\n",
            "Requirement already satisfied: numpy in /usr/local/lib/python3.6/dist-packages (from tensorflow-datasets) (1.18.5)\n",
            "Requirement already satisfied: promise in /usr/local/lib/python3.6/dist-packages (from tensorflow-datasets) (2.3)\n",
            "Requirement already satisfied: certifi>=2017.4.17 in /usr/local/lib/python3.6/dist-packages (from requests>=2.19.0->tensorflow-datasets) (2020.6.20)\n",
            "Requirement already satisfied: idna<3,>=2.5 in /usr/local/lib/python3.6/dist-packages (from requests>=2.19.0->tensorflow-datasets) (2.10)\n",
            "Requirement already satisfied: chardet<4,>=3.0.2 in /usr/local/lib/python3.6/dist-packages (from requests>=2.19.0->tensorflow-datasets) (3.0.4)\n",
            "Requirement already satisfied: urllib3!=1.25.0,!=1.25.1,<1.26,>=1.21.1 in /usr/local/lib/python3.6/dist-packages (from requests>=2.19.0->tensorflow-datasets) (1.24.3)\n",
            "Requirement already satisfied: setuptools in /usr/local/lib/python3.6/dist-packages (from protobuf>=3.6.1->tensorflow-datasets) (49.1.0)\n",
            "Requirement already satisfied: googleapis-common-protos in /usr/local/lib/python3.6/dist-packages (from tensorflow-metadata->tensorflow-datasets) (1.52.0)\n"
          ],
          "name": "stdout"
        }
      ]
    },
    {
      "cell_type": "code",
      "metadata": {
        "id": "vHQdseIRVAr4",
        "colab": {
          "base_uri": "https://localhost:8080/",
          "height": 318,
          "referenced_widgets": [
            "304424075b4843d499343ce4adeae9b5",
            "77ebaa089dc24cae816220d9c40d9fc4",
            "74d20a4974e34d479e8643bcc4415ebb",
            "df95f85d93a9492ba525774a7db9a20f",
            "a8d5a8c8abf64076bf2bc89372dc5295",
            "b115d4c53d794baabff37f41f4ef3f47",
            "40fef2bddffe4c35974da23aef2251c1",
            "b8e669a3a72949b599003ab21a3a6325",
            "6bbae4b9d50b46909800a8001bc8a384",
            "2bbd3c7e299748f8af396ff70fa75de0",
            "aaef066f054e4ee8843658aa848d738d",
            "68f0285355964045819ff4a12fd18b6d",
            "ad2ab393ebdc450da712c98202083e8e",
            "cf21b5e14a194f1db8c0854d67c1a181",
            "e018344bf06b49e48cc7a4a53df55753",
            "0424f75c470345218e29fc6aaadea078",
            "5fb2afcd23f841a39c1387486ab758d0",
            "e750a03a74be42029a805d719fe23ceb",
            "a379ac9274dd46dba1cbb5a790d9d773",
            "d9c34f293783408989a49ceae39ffb2f",
            "de0bb7d309db4c5fa8e0f5866449fdf5",
            "5691cbc32a61442d857d00e52d964fcb",
            "e503d25818c44fab829cb038a037bfc3",
            "474a95cde5284367b91509afafa877e5",
            "85b324595ee348e68fe659e2af427ec7",
            "3f0f922eba754187aef329a8ebac2e05",
            "8d44afff73b04739a9ad3676c93e1615",
            "0c4c4d858c7042309131d599b9cd7dc3",
            "399a6eef784c40d79cb6593cef43ac35",
            "af693b7a8c3b4872832949b57d60454f",
            "c43147cef1a7488fafd347f685c21812",
            "f3dd1444a3c04629b85d81424c22e4d5",
            "fa2cdbe1d0bd4e7ba856e9092295224d",
            "51cb9c90b2124ec29fddd53dd4fb2452",
            "c850b17ca7534b9994dfcd9088100cd9",
            "27a5c952d535495b85f46c98ba64cb0b",
            "4b3c47f28830460584f853e017235100",
            "4800c91b98724ccc8fc510a54c073abc",
            "b553134474fc40378a2929810a56ffb6",
            "cbfd192975b441479b54568c59a727c2"
          ]
        },
        "outputId": "d29185c6-35a7-460e-f3df-5fafa33d047b"
      },
      "source": [
        "import tensorflow_datasets as tfds\n",
        "#Loading the data.\n",
        "data, info = tfds.load(\"eurosat\", split = 'train', with_info=True, as_supervised=True)\n"
      ],
      "execution_count": null,
      "outputs": [
        {
          "output_type": "stream",
          "text": [
            "\u001b[1mDownloading and preparing dataset eurosat/rgb/2.0.0 (download: 89.91 MiB, generated: Unknown size, total: 89.91 MiB) to /root/tensorflow_datasets/eurosat/rgb/2.0.0...\u001b[0m\n"
          ],
          "name": "stdout"
        },
        {
          "output_type": "display_data",
          "data": {
            "application/vnd.jupyter.widget-view+json": {
              "model_id": "304424075b4843d499343ce4adeae9b5",
              "version_minor": 0,
              "version_major": 2
            },
            "text/plain": [
              "HBox(children=(FloatProgress(value=1.0, bar_style='info', description='Dl Completed...', max=1.0, style=Progre…"
            ]
          },
          "metadata": {
            "tags": []
          }
        },
        {
          "output_type": "display_data",
          "data": {
            "application/vnd.jupyter.widget-view+json": {
              "model_id": "6bbae4b9d50b46909800a8001bc8a384",
              "version_minor": 0,
              "version_major": 2
            },
            "text/plain": [
              "HBox(children=(FloatProgress(value=1.0, bar_style='info', description='Dl Size...', max=1.0, style=ProgressSty…"
            ]
          },
          "metadata": {
            "tags": []
          }
        },
        {
          "output_type": "display_data",
          "data": {
            "application/vnd.jupyter.widget-view+json": {
              "model_id": "5fb2afcd23f841a39c1387486ab758d0",
              "version_minor": 0,
              "version_major": 2
            },
            "text/plain": [
              "HBox(children=(FloatProgress(value=1.0, bar_style='info', description='Extraction completed...', max=1.0, styl…"
            ]
          },
          "metadata": {
            "tags": []
          }
        },
        {
          "output_type": "stream",
          "text": [
            "\n",
            "\n",
            "\n",
            "\n",
            "\n",
            "\n"
          ],
          "name": "stdout"
        },
        {
          "output_type": "display_data",
          "data": {
            "application/vnd.jupyter.widget-view+json": {
              "model_id": "85b324595ee348e68fe659e2af427ec7",
              "version_minor": 0,
              "version_major": 2
            },
            "text/plain": [
              "HBox(children=(FloatProgress(value=1.0, bar_style='info', max=1.0), HTML(value='')))"
            ]
          },
          "metadata": {
            "tags": []
          }
        },
        {
          "output_type": "stream",
          "text": [
            "\rShuffling and writing examples to /root/tensorflow_datasets/eurosat/rgb/2.0.0.incompleteVKBU1G/eurosat-train.tfrecord\n"
          ],
          "name": "stdout"
        },
        {
          "output_type": "display_data",
          "data": {
            "application/vnd.jupyter.widget-view+json": {
              "model_id": "fa2cdbe1d0bd4e7ba856e9092295224d",
              "version_minor": 0,
              "version_major": 2
            },
            "text/plain": [
              "HBox(children=(FloatProgress(value=0.0, max=27000.0), HTML(value='')))"
            ]
          },
          "metadata": {
            "tags": []
          }
        },
        {
          "output_type": "stream",
          "text": [
            "\u001b[1mDataset eurosat downloaded and prepared to /root/tensorflow_datasets/eurosat/rgb/2.0.0. Subsequent calls will reuse this data.\u001b[0m\n",
            "\r"
          ],
          "name": "stdout"
        }
      ]
    },
    {
      "cell_type": "code",
      "metadata": {
        "id": "I6OYui0QlFCj"
      },
      "source": [
        "import numpy as np\n",
        "img = list()\n",
        "lbl = list()\n",
        "x = np.zeros((27000,64,64,3))\n",
        "y = np.zeros((27000,1))\n",
        "m = 0\n",
        "\n",
        "#Converting the data into numpy arrays and then storing it in the matrices x and y.\n",
        "for ex in tfds.as_numpy(data):\n",
        "  image, label = ex\n",
        "  img.append(image)\n",
        "  lbl.append(label)\n",
        "  x[m,:,:,:] = image\n",
        "  y[m,:] = label\n",
        "  m += 1 \n",
        "\n",
        "\n",
        "  "
      ],
      "execution_count": null,
      "outputs": []
    },
    {
      "cell_type": "code",
      "metadata": {
        "id": "IdI9FLctX0-f",
        "colab": {
          "base_uri": "https://localhost:8080/",
          "height": 370
        },
        "outputId": "8c7f4328-52df-42c4-ee43-4271e285e1da"
      },
      "source": [
        "#Checking the images.\n",
        "print(len(img), len(lbl))\n",
        "import matplotlib.pyplot as plt\n",
        "print(\"label[27]:\",lbl[27])\n",
        "plt.imshow(img[27])\n",
        "print(\"x:\",x.shape)\n",
        "print(\"img[27]:\",img[27].shape)\n",
        "print(\"X[27]:\",x[27].shape)\n",
        "print(\"y[27]\", y[27])\n",
        "\n",
        "del img\n",
        "del lbl"
      ],
      "execution_count": null,
      "outputs": [
        {
          "output_type": "stream",
          "text": [
            "27000 27000\n",
            "label[27]: 0\n",
            "x: (27000, 64, 64, 3)\n",
            "img[27]: (64, 64, 3)\n",
            "X[27]: (64, 64, 3)\n",
            "y[27] [0.]\n"
          ],
          "name": "stdout"
        },
        {
          "output_type": "display_data",
          "data": {
            "image/png": "[encoded data removed]",
            "text/plain": [
              "<Figure size 432x288 with 1 Axes>"
            ]
          },
          "metadata": {
            "tags": [],
            "needs_background": "light"
          }
        }
      ]
    },
    {
      "cell_type": "code",
      "metadata": {
        "id": "-KYDEQ2SQOoI"
      },
      "source": [
        "def one_hot_matrix(labels, classes):\n",
        "  C = tf.constant(classes, name = 'C')\n",
        "\n",
        "  oneHotMatrix = tf.one_hot(labels, C, axis = 0)\n",
        "\n",
        "  with tf.Session() as sess:\n",
        "    one_hot = sess.run(oneHotMatrix)\n",
        "\n",
        "  return one_hot  "
      ],
      "execution_count": null,
      "outputs": []
    },
    {
      "cell_type": "code",
      "metadata": {
        "id": "yHDlmbyzRi03",
        "colab": {
          "base_uri": "https://localhost:8080/",
          "height": 204
        },
        "outputId": "c6f196fb-25db-48e7-8a18-0965da23b1aa"
      },
      "source": [
        "#Testing the one_hot_matrix function\n",
        "one_hot = one_hot_matrix([1,2,0,9,4,5,6,7,2,3], 10)\n",
        "print(one_hot)\n",
        "print('**', one_hot.shape)"
      ],
      "execution_count": null,
      "outputs": [
        {
          "output_type": "stream",
          "text": [
            "[[0. 0. 1. 0. 0. 0. 0. 0. 0. 0.]\n",
            " [1. 0. 0. 0. 0. 0. 0. 0. 0. 0.]\n",
            " [0. 1. 0. 0. 0. 0. 0. 0. 1. 0.]\n",
            " [0. 0. 0. 0. 0. 0. 0. 0. 0. 1.]\n",
            " [0. 0. 0. 0. 1. 0. 0. 0. 0. 0.]\n",
            " [0. 0. 0. 0. 0. 1. 0. 0. 0. 0.]\n",
            " [0. 0. 0. 0. 0. 0. 1. 0. 0. 0.]\n",
            " [0. 0. 0. 0. 0. 0. 0. 1. 0. 0.]\n",
            " [0. 0. 0. 0. 0. 0. 0. 0. 0. 0.]\n",
            " [0. 0. 0. 1. 0. 0. 0. 0. 0. 0.]]\n",
            "** (10, 10)\n"
          ],
          "name": "stdout"
        }
      ]
    },
    {
      "cell_type": "code",
      "metadata": {
        "id": "Zucq5u5JSXo1",
        "colab": {
          "base_uri": "https://localhost:8080/",
          "height": 102
        },
        "outputId": "c6581cc5-71e4-491f-9375-1436d1469f97"
      },
      "source": [
        "print(y.T.shape)\n",
        "yhot = y.T.reshape(27000)\n",
        "print(y[0])\n",
        "print(yhot[ 0:9])\n",
        "yhot = one_hot_matrix(yhot, 10).T\n",
        "print(yhot.shape)\n",
        "print(yhot[:,0])\n"
      ],
      "execution_count": null,
      "outputs": [
        {
          "output_type": "stream",
          "text": [
            "(1, 27000)\n",
            "[4.]\n",
            "[4. 8. 8. 8. 9. 1. 2. 4. 8.]\n",
            "(27000, 10)\n",
            "[0. 0. 0. ... 1. 0. 0.]\n"
          ],
          "name": "stdout"
        }
      ]
    },
    {
      "cell_type": "code",
      "metadata": {
        "id": "DHt_6K-KX0sS",
        "colab": {
          "base_uri": "https://localhost:8080/",
          "height": 119
        },
        "outputId": "887c992b-da85-4d34-e64e-14c6328e3879"
      },
      "source": [
        "#one hot labels.\n",
        "#Y = yhot \n",
        "\n",
        "permutation = list(np.random.permutation(x.shape[0]))\n",
        "x = x[permutation, :]\n",
        "yhot = yhot[permutation, :]\n",
        "\n",
        "#del shuffled_x\n",
        "#del shuffled_y\n",
        "\n",
        "#Dividing the examples in train and test sets.\n",
        "X_train = x[0:24300, :, :, :]\n",
        "Y_train = yhot[0:24300, :]\n",
        "X_test = x[24300 : , :, :, :]\n",
        "Y_test = yhot[24300 : , :]\n",
        "\n",
        "#Normalizing train and test sets.\n",
        "X_train = X_train/255\n",
        "X_test = X_test/255\n",
        "print(\"Number of training examples:\",X_train.shape[0])\n",
        "print(\"Number of test examples: \",X_test.shape[0])\n",
        "print(\"X_train shape:\", X_train.shape)\n",
        "print(\"Y_train shape:\", Y_train.shape)\n",
        "print(\"X_test shape:\", X_test.shape)\n",
        "print(\"Y_test shape:\", Y_test.shape)\n",
        "\n",
        "del x\n",
        "del yhot\n",
        "del y\n",
        "#gc.collect()\n"
      ],
      "execution_count": null,
      "outputs": [
        {
          "output_type": "stream",
          "text": [
            "Number of training examples: 24300\n",
            "Number of test examples:  2700\n",
            "X_train shape: (24300, 64, 64, 3)\n",
            "Y_train shape: (24300, 10)\n",
            "X_test shape: (2700, 64, 64, 3)\n",
            "Y_test shape: (2700, 10)\n"
          ],
          "name": "stdout"
        }
      ]
    },
    {
      "cell_type": "code",
      "metadata": {
        "id": "VXfOV3staVyP"
      },
      "source": [
        "def create_placeholders(nH0, nW0, nC0, ny):\n",
        "  #nH0: Height of the input image.\n",
        "  #nW0: Width of the input image.\n",
        "  #nC0: Number of channels of input.\n",
        "  #ny : Number of classes.\n",
        "  \n",
        "  #X for image inputs and Y for labels.\n",
        "  X = tf.placeholder(tf.float32, shape = (None, nH0, nW0, nC0))\n",
        "  Y = tf.placeholder(tf.float32, shape = (None, ny))\n",
        "  #'del'\n",
        "  #gc.collect()\n",
        "  return X, Y\n",
        "\n"
      ],
      "execution_count": null,
      "outputs": []
    },
    {
      "cell_type": "code",
      "metadata": {
        "id": "yMNPaUTW2SWG"
      },
      "source": [
        "def initialize_parameters():\n",
        "  #Returns parameters initialized in a dictionary named parameters.\n",
        "  \n",
        "  tf.set_random_seed(1) \n",
        "  \n",
        "  regularizer = tf.contrib.layers.l2_regularizer(scale = 0.09) \n",
        "\n",
        "  W1 = tf.get_variable('W1', [11,11,3,10], initializer = tf.contrib.layers.xavier_initializer(seed=0), regularizer = regularizer)\n",
        "  W2 = tf.get_variable('W2', [5,5,10,15], initializer = tf.contrib.layers.xavier_initializer(seed=0), regularizer = regularizer)\n",
        "  W3 = tf.get_variable('W3', [5,5,15,20], initializer = tf.contrib.layers.xavier_initializer(seed=0), regularizer = regularizer)\n",
        "  W4 = tf.get_variable('W4', [3,3,20,30], initializer = tf.contrib.layers.xavier_initializer(seed=0), regularizer = regularizer)\n",
        "\n",
        "  parameters = {'W1' : W1, 'W2' : W2, 'W3' : W3, 'W4' : W4}\n",
        "\n",
        "  return parameters, regularizer"
      ],
      "execution_count": null,
      "outputs": []
    },
    {
      "cell_type": "code",
      "metadata": {
        "id": "qxpcGRdw9Wn8",
        "colab": {
          "base_uri": "https://localhost:8080/",
          "height": 204
        },
        "outputId": "4a00918f-7671-40b4-ea35-9ded13303a14"
      },
      "source": [
        "tf.reset_default_graph()\n",
        "with tf.Session() as sess_test:\n",
        "    parameters = initialize_parameters()\n",
        "    init = tf.global_variables_initializer()\n",
        "    sess_test.run(init)\n",
        "    print(\"W1[1,1,1] = \\n\" + str(parameters[\"W1\"].eval()[1,1,1]))\n",
        "    print(\"W1.shape: \" + str(parameters[\"W1\"].shape))\n",
        "    print(\"\\n\")\n",
        "    print(\"W2[1,1,1] = \\n\" + str(parameters[\"W2\"].eval()[1,1,1]))\n",
        "    print(\"W2.shape: \" + str(parameters[\"W2\"].shape))"
      ],
      "execution_count": null,
      "outputs": [
        {
          "output_type": "stream",
          "text": [
            "W1[1,1,1] = \n",
            "[-0.03306317  0.00659073  0.05340987 -0.02431887  0.01017145  0.00870071\n",
            " -0.00072943 -0.01652123 -0.03981302 -0.0616875 ]\n",
            "W1.shape: (11, 11, 3, 10)\n",
            "\n",
            "\n",
            "W2[1,1,1] = \n",
            "[-0.04559696 -0.02286464  0.05650467  0.07859445  0.06993313  0.06450687\n",
            "  0.09405608 -0.00296396 -0.0667281   0.04564598  0.08157583  0.01612794\n",
            "  0.06711587 -0.03498307 -0.09766643]\n",
            "W2.shape: (5, 5, 10, 15)\n"
          ],
          "name": "stdout"
        }
      ]
    },
    {
      "cell_type": "code",
      "metadata": {
        "id": "8ynvAlF59s_q"
      },
      "source": [
        "def forward_propagation(X, parameters):\n",
        "\n",
        "  W1 = parameters['W1']\n",
        "  W2 = parameters['W2']\n",
        "  W3 = parameters['W3']\n",
        "  W4 = parameters['W4']\n",
        "  \n",
        "  #Convolutional Layer.\n",
        "  Z1 = tf.nn.conv2d(X, W1, strides = [1,1,1,1], padding = 'SAME')\n",
        "  A1 = tf.nn.relu(Z1)\n",
        "\n",
        "  #Max Pool Layer.\n",
        "  P1 = tf.nn.max_pool(A1, ksize = [1,2,2,1], strides = [1,2,2,1], padding = 'SAME')\n",
        "\n",
        "  #Convolutional Layer.\n",
        "  Z2 = tf.nn.conv2d(P1, W2, strides = [1,1,1,1], padding = 'SAME')\n",
        "  A2 = tf.nn.relu(Z2)\n",
        "\n",
        "  #Max Pool Layer.\n",
        "  P2 = tf.nn.max_pool(A2, ksize = [1,2,2,1], strides = [1,2,2,1], padding = 'SAME')\n",
        "  \n",
        "  #Convolutional Layer.\n",
        "  Z3 = tf.nn.conv2d(P2, W3, strides = [1,1,1,1], padding = 'SAME')\n",
        "  A3 = tf.nn.relu(Z3)\n",
        "\n",
        "  #Convolutional Layer.\n",
        "  Z4 = tf.nn.conv2d(A3, W4, strides = [1,1,1,1], padding = 'SAME')\n",
        "  A4 = tf.nn.relu(Z4)\n",
        "\n",
        "  #Max Pool Layer.\n",
        "  P3 = tf.nn.max_pool(A4, ksize = [1,2,2,1], strides = [1,2,2,1], padding = 'SAME')\n",
        "\n",
        "  #Flattening P3\n",
        "  F = tf.contrib.layers.flatten(P3)\n",
        "\n",
        "  #Fully Connected Layer.\n",
        "  Z5 = tf.contrib.layers.fully_connected(F,128, activation_fn=None)\n",
        "  \n",
        "  #Fully Connected Layer.\n",
        "  Z6 = tf.contrib.layers.fully_connected(Z5, 10, activation_fn = None)\n",
        "\n",
        "  return Z6\n"
      ],
      "execution_count": null,
      "outputs": []
    },
    {
      "cell_type": "code",
      "metadata": {
        "id": "SoUIUSI0upBl"
      },
      "source": [
        "def computeCost(Z6, Y, regularizer):\n",
        "  # Returns the cost\n",
        "\n",
        "  reg_variables = tf.get_collection(tf.GraphKeys.REGULARIZATION_LOSSES)\n",
        "  reg_term = tf.contrib.layers.apply_regularization(regularizer, reg_variables)\n",
        "  cost = tf.reduce_mean(tf.nn.softmax_cross_entropy_with_logits(logits = Z6, labels = Y))\n",
        "\n",
        "  cost += reg_term\n",
        "\n",
        "  return cost\n",
        "  \n",
        "\n"
      ],
      "execution_count": null,
      "outputs": []
    },
    {
      "cell_type": "code",
      "metadata": {
        "id": "6ncHoJ5SjzJ_"
      },
      "source": [
        "def randomMiniBatches(X, Y, miniBatchSize, seed):\n",
        "  np.random.seed(seed)\n",
        "  m = X.shape[0]\n",
        "  miniBatches = list()#List of all mini batches.\n",
        "\n",
        "  #Shuffling the examples.\n",
        "  permutation = list(np.random.permutation(m))\n",
        "  shuffled_X = X[permutation, :]\n",
        "  shuffled_Y = Y[permutation, :]\n",
        "  \n",
        "  #Total complete mini batches.\n",
        "  numOfCompleteMiniBatches = int( m/miniBatchSize )\n",
        "  #Computing the mini batches.\n",
        "  for k in range(0, numOfCompleteMiniBatches):\n",
        "    miniBatch_X = shuffled_X[ k*miniBatchSize : (k+1)*miniBatchSize, :]\n",
        "    miniBatch_Y = shuffled_Y[ k*miniBatchSize : (k+1)*miniBatchSize, :]\n",
        "\n",
        "    miniBatch = (miniBatch_X, miniBatch_Y)\n",
        "    miniBatches.append(miniBatch)\n",
        "    \n",
        "    #For the last incomplete miniBatch.\n",
        "    if m % miniBatchSize != 0:\n",
        "      miniBatch_X = shuffled_X[ miniBatchSize : numOfCompleteMiniBatches, : ]\n",
        "      miniBatch_Y = shuffled_Y[ miniBatchSize : numOfCompleteMiniBatches, : ]\n",
        "\n",
        "      miniBatch = (miniBatch_X, miniBatch_Y)\n",
        "      miniBatches.append(miniBatch)\n",
        "    \n",
        "\n",
        "  return miniBatches\n",
        "\n",
        "\n",
        "\n"
      ],
      "execution_count": null,
      "outputs": []
    },
    {
      "cell_type": "code",
      "metadata": {
        "id": "y8-zOf5PpZIl",
        "colab": {
          "base_uri": "https://localhost:8080/",
          "height": 68
        },
        "outputId": "0067f5eb-006e-4c88-e69c-c37092d75b63"
      },
      "source": [
        "miniBatches = randomMiniBatches(X_train, Y_train, 64, 0)\n",
        "\n",
        "print(\"Shape of mini batch 0: \", miniBatches[0][0].shape)"
      ],
      "execution_count": null,
      "outputs": [
        {
          "output_type": "stream",
          "text": [
            "**** (24300, 10) \n",
            " (24300, 64, 64, 3)\n",
            "Shape of mini batch 0:  (64, 64, 64, 3)\n"
          ],
          "name": "stdout"
        }
      ]
    },
    {
      "cell_type": "code",
      "metadata": {
        "id": "pOeJzafRyg2W"
      },
      "source": [
        "def model(X_train, Y_train, X_test, Y_test, learningRate = 0.0009, numOfEpochs = 50, miniBatchSize = 64):\n",
        "  \n",
        "  tf.reset_default_graph()\n",
        "  tf.set_random_seed(1)\n",
        "  seed = 3\n",
        "  costs = list()\n",
        "  #m is the number of training examples.\n",
        "  #nH0 is the height of input image.\n",
        "  #nW0 is the width of input image.\n",
        "  #nC0 is the number of channels of the input image.\n",
        "  #ny is the number of classes i.e 10\n",
        "  (m, nH0, nW0, nC0) = X_train.shape\n",
        "  ny = Y_train.shape[1]\n",
        "  \n",
        "\n",
        "  #Creating placeholders.\n",
        "  X, Y = create_placeholders(nH0, nW0, nC0, ny)\n",
        "\n",
        "  #Initializing parameters.\n",
        "  parameters, regularizer = initialize_parameters()\n",
        "\n",
        "  #Adding forward propagation to the tensorflow graph.\n",
        "  Z6 = forward_propagation(X, parameters)\n",
        "\n",
        "  #Adding a function to compute the cost in the tensorflow graph.\n",
        "  cost = computeCost(Z6, Y, regularizer)\n",
        "\n",
        "  #Defining the optimizer for back propagation.\n",
        "  optimizer = tf.train.AdamOptimizer(learning_rate= learningRate).minimize(cost)\n",
        "\n",
        "  init = tf.global_variables_initializer()\n",
        "\n",
        "  with tf.Session() as sess:\n",
        "    sess.run(init)\n",
        "\n",
        "    for epoch in range(numOfEpochs):\n",
        "      #\n",
        "      miniBatchCost = 0.\n",
        "      numOfMiniBatches = int(m/miniBatchSize)\n",
        "      seed += 1\n",
        "\n",
        "      miniBatches = randomMiniBatches(X_train, Y_train, miniBatchSize, seed) \n",
        "    \n",
        "      for miniBatch in miniBatches:\n",
        "        #\n",
        "        (miniBatch_X, miniBatch_Y) = miniBatch\n",
        "\n",
        "        _, tempCost = sess.run([optimizer, cost], feed_dict = {X: miniBatch_X, Y: miniBatch_Y})\n",
        "        miniBatchCost = tempCost/numOfMiniBatches\n",
        "\n",
        "      print (\"Cost after epoch %i: %f\" % (epoch, miniBatchCost))\n",
        "      costs.append(miniBatchCost)\n",
        "      if epoch > 15 and learningRate > 0.00001 :\n",
        "        #Decay rate 0.01\n",
        "        learningRate = learningRate/(1+epoch*0.01)   \n",
        "\n",
        "    plt.plot(np.squeeze(costs))\n",
        "    plt.ylabel('cost')\n",
        "    plt.xlabel('iterations (per tens)')\n",
        "    plt.title(\"Learning rate =\" + str(learningRate) + \", Reg scale = 0.09\")\n",
        "    plt.show()\n",
        "\n",
        "    predict_op = tf.argmax(Z6, 1)\n",
        "    correct_prediction = tf.equal(predict_op, tf.argmax(Y, 1))\n",
        "    #print('HELOO**')\n",
        "    accuracy = tf.reduce_mean(tf.cast(correct_prediction, 'float'))\n",
        "    print(accuracy)\n",
        "    train_accuracy = accuracy.eval({X: X_train, Y: Y_train})\n",
        "    test_accuracy = accuracy.eval({X: X_test, Y: Y_test})\n",
        "    print(\"Accuracies:\")\n",
        "    print(\"Train Accuracy:\", train_accuracy)\n",
        "    print(\"Test Accuracy:\", test_accuracy)\n",
        "\n",
        "\n",
        "\n",
        "\n",
        "\n",
        "  return train_accuracy, test_accuracy, parameters\n"
      ],
      "execution_count": null,
      "outputs": []
    },
    {
      "cell_type": "code",
      "metadata": {
        "id": "4JKuZcAPt6mN",
        "colab": {
          "base_uri": "https://localhost:8080/",
          "height": 1000
        },
        "outputId": "6fb9f09c-12aa-4947-b13f-342782932895"
      },
      "source": [
        "_, _, parameters = model(X_train, Y_train, X_test, Y_test)"
      ],
      "execution_count": null,
      "outputs": [
        {
          "output_type": "stream",
          "text": [
            "WARNING:tensorflow:\n",
            "The TensorFlow contrib module will not be included in TensorFlow 2.0.\n",
            "For more information, please see:\n",
            "  * https://github.com/tensorflow/community/blob/master/rfcs/20180907-contrib-sunset.md\n",
            "  * https://github.com/tensorflow/addons\n",
            "  * https://github.com/tensorflow/io (for I/O related ops)\n",
            "If you depend on functionality not listed there, please file an issue.\n",
            "\n"
          ],
          "name": "stdout"
        },
        {
          "output_type": "stream",
          "text": [
            "WARNING:tensorflow:\n",
            "The TensorFlow contrib module will not be included in TensorFlow 2.0.\n",
            "For more information, please see:\n",
            "  * https://github.com/tensorflow/community/blob/master/rfcs/20180907-contrib-sunset.md\n",
            "  * https://github.com/tensorflow/addons\n",
            "  * https://github.com/tensorflow/io (for I/O related ops)\n",
            "If you depend on functionality not listed there, please file an issue.\n",
            "\n"
          ],
          "name": "stderr"
        },
        {
          "output_type": "stream",
          "text": [
            "WARNING:tensorflow:From /usr/local/lib/python3.6/dist-packages/tensorflow_core/contrib/layers/python/layers/layers.py:1634: flatten (from tensorflow.python.layers.core) is deprecated and will be removed in a future version.\n",
            "Instructions for updating:\n",
            "Use keras.layers.flatten instead.\n"
          ],
          "name": "stdout"
        },
        {
          "output_type": "stream",
          "text": [
            "WARNING:tensorflow:From /usr/local/lib/python3.6/dist-packages/tensorflow_core/contrib/layers/python/layers/layers.py:1634: flatten (from tensorflow.python.layers.core) is deprecated and will be removed in a future version.\n",
            "Instructions for updating:\n",
            "Use keras.layers.flatten instead.\n"
          ],
          "name": "stderr"
        },
        {
          "output_type": "stream",
          "text": [
            "WARNING:tensorflow:From /usr/local/lib/python3.6/dist-packages/tensorflow_core/python/layers/core.py:332: Layer.apply (from tensorflow.python.keras.engine.base_layer) is deprecated and will be removed in a future version.\n",
            "Instructions for updating:\n",
            "Please use `layer.__call__` method instead.\n"
          ],
          "name": "stdout"
        },
        {
          "output_type": "stream",
          "text": [
            "WARNING:tensorflow:From /usr/local/lib/python3.6/dist-packages/tensorflow_core/python/layers/core.py:332: Layer.apply (from tensorflow.python.keras.engine.base_layer) is deprecated and will be removed in a future version.\n",
            "Instructions for updating:\n",
            "Please use `layer.__call__` method instead.\n"
          ],
          "name": "stderr"
        },
        {
          "output_type": "stream",
          "text": [
            "WARNING:tensorflow:From <ipython-input-11-71719c6bc928>:3: softmax_cross_entropy_with_logits (from tensorflow.python.ops.nn_ops) is deprecated and will be removed in a future version.\n",
            "Instructions for updating:\n",
            "\n",
            "Future major versions of TensorFlow will allow gradients to flow\n",
            "into the labels input on backprop by default.\n",
            "\n",
            "See `tf.nn.softmax_cross_entropy_with_logits_v2`.\n",
            "\n"
          ],
          "name": "stdout"
        },
        {
          "output_type": "stream",
          "text": [
            "WARNING:tensorflow:From <ipython-input-11-71719c6bc928>:3: softmax_cross_entropy_with_logits (from tensorflow.python.ops.nn_ops) is deprecated and will be removed in a future version.\n",
            "Instructions for updating:\n",
            "\n",
            "Future major versions of TensorFlow will allow gradients to flow\n",
            "into the labels input on backprop by default.\n",
            "\n",
            "See `tf.nn.softmax_cross_entropy_with_logits_v2`.\n",
            "\n"
          ],
          "name": "stderr"
        },
        {
          "output_type": "stream",
          "text": [
            "Cost after epoch 0: 0.000613\n",
            "Cost after epoch 1: 0.000312\n",
            "Cost after epoch 2: 0.000188\n",
            "Cost after epoch 3: 0.000103\n",
            "Cost after epoch 4: 0.000224\n",
            "Cost after epoch 5: 0.000151\n",
            "Cost after epoch 6: 0.000110\n",
            "Cost after epoch 7: 0.000129\n",
            "Cost after epoch 8: 0.000042\n",
            "Cost after epoch 9: 0.000044\n"
          ],
          "name": "stdout"
        },
        {
          "output_type": "display_data",
          "data": {
            "image/png": "[encoded data removed]",
            "text/plain": [
              "<Figure size 432x288 with 1 Axes>"
            ]
          },
          "metadata": {
            "tags": [],
            "needs_background": "light"
          }
        },
        {
          "output_type": "stream",
          "text": [
            "Tensor(\"Mean_1:0\", shape=(), dtype=float32)\n",
            "Accuracies:\n",
            "Train Accuracy: 0.8885185\n",
            "Test Accuracy: 0.7866667\n"
          ],
          "name": "stdout"
        }
      ]
    },
    {
      "cell_type": "code",
      "metadata": {
        "id": "lBvaTd56auN4",
        "colab": {
          "base_uri": "https://localhost:8080/",
          "height": 703
        },
        "outputId": "28b89cee-156c-4c6a-d1b1-78c6f91e3860"
      },
      "source": [
        "_,_,parameters = model(X_train, Y_train, X_test, Y_test, )"
      ],
      "execution_count": null,
      "outputs": [
        {
          "output_type": "stream",
          "text": [
            "Cost after epoch 0: 0.000574\n",
            "Cost after epoch 1: 0.000236\n",
            "Cost after epoch 2: 0.000139\n",
            "Cost after epoch 3: 0.000134\n",
            "Cost after epoch 4: 0.000125\n",
            "Cost after epoch 5: 0.000110\n",
            "Cost after epoch 6: 0.000127\n",
            "Cost after epoch 7: 0.000146\n",
            "Cost after epoch 8: 0.000082\n",
            "Cost after epoch 9: 0.000061\n",
            "Cost after epoch 10: 0.000109\n",
            "Cost after epoch 11: 0.000034\n",
            "Cost after epoch 12: 0.000049\n",
            "Cost after epoch 13: 0.000042\n",
            "Cost after epoch 14: 0.000043\n",
            "Cost after epoch 15: 0.000062\n",
            "Cost after epoch 16: 0.000024\n",
            "Cost after epoch 17: 0.000011\n",
            "Cost after epoch 18: 0.000036\n",
            "Cost after epoch 19: 0.000054\n"
          ],
          "name": "stdout"
        },
        {
          "output_type": "display_data",
          "data": {
            "image/png": "[encoded data removed]",
            "text/plain": [
              "<Figure size 432x288 with 1 Axes>"
            ]
          },
          "metadata": {
            "tags": [],
            "needs_background": "light"
          }
        },
        {
          "output_type": "stream",
          "text": [
            "Tensor(\"Mean_1:0\", shape=(), dtype=float32)\n",
            "Accuracies:\n",
            "Train Accuracy: 0.9246914\n",
            "Test Accuracy: 0.78481483\n"
          ],
          "name": "stdout"
        }
      ]
    },
    {
      "cell_type": "code",
      "metadata": {
        "id": "Y-iqlJvifQhB",
        "colab": {
          "base_uri": "https://localhost:8080/",
          "height": 533
        },
        "outputId": "347a35a1-5bca-43cf-d642-b45b8a4b7f51"
      },
      "source": [
        "_,_, parameters = model(X_train, Y_train, X_test, Y_test)"
      ],
      "execution_count": null,
      "outputs": [
        {
          "output_type": "stream",
          "text": [
            "Cost after epoch 0: 0.001991\n",
            "Cost after epoch 1: 0.001399\n",
            "Cost after epoch 2: 0.001296\n",
            "Cost after epoch 3: 0.001379\n",
            "Cost after epoch 4: 0.001118\n",
            "Cost after epoch 5: 0.001056\n",
            "Cost after epoch 6: 0.001184\n",
            "Cost after epoch 7: 0.000887\n",
            "Cost after epoch 8: 0.000879\n",
            "Cost after epoch 9: 0.000624\n"
          ],
          "name": "stdout"
        },
        {
          "output_type": "display_data",
          "data": {
            "image/png": "[encoded data removed]",
            "text/plain": [
              "<Figure size 432x288 with 1 Axes>"
            ]
          },
          "metadata": {
            "tags": [],
            "needs_background": "light"
          }
        },
        {
          "output_type": "stream",
          "text": [
            "Tensor(\"Mean_1:0\", shape=(), dtype=float32)\n",
            "Accuracies:\n",
            "Train Accuracy: 0.77148145\n",
            "Test Accuracy: 0.74185187\n"
          ],
          "name": "stdout"
        }
      ]
    },
    {
      "cell_type": "code",
      "metadata": {
        "id": "Ilu9HwEFhBfA",
        "colab": {
          "base_uri": "https://localhost:8080/",
          "height": 873
        },
        "outputId": "7f12b529-224b-4331-b376-10e04e039f35"
      },
      "source": [
        "_,_, parameters = model(X_train, Y_train, X_test, Y_test)"
      ],
      "execution_count": null,
      "outputs": [
        {
          "output_type": "stream",
          "text": [
            "Cost after epoch 0: 0.002096\n",
            "Cost after epoch 1: 0.001395\n",
            "Cost after epoch 2: 0.001284\n",
            "Cost after epoch 3: 0.001333\n",
            "Cost after epoch 4: 0.001217\n",
            "Cost after epoch 5: 0.001018\n",
            "Cost after epoch 6: 0.001155\n",
            "Cost after epoch 7: 0.000883\n",
            "Cost after epoch 8: 0.000824\n",
            "Cost after epoch 9: 0.000638\n",
            "Cost after epoch 10: 0.000848\n",
            "Cost after epoch 11: 0.000687\n",
            "Cost after epoch 12: 0.000575\n",
            "Cost after epoch 13: 0.000562\n",
            "Cost after epoch 14: 0.000571\n",
            "Cost after epoch 15: 0.000537\n",
            "Cost after epoch 16: 0.000631\n",
            "Cost after epoch 17: 0.000455\n",
            "Cost after epoch 18: 0.000445\n",
            "Cost after epoch 19: 0.000365\n",
            "Cost after epoch 20: 0.000500\n",
            "Cost after epoch 21: 0.000426\n",
            "Cost after epoch 22: 0.000362\n",
            "Cost after epoch 23: 0.000361\n",
            "Cost after epoch 24: 0.000405\n",
            "Cost after epoch 25: 0.000432\n",
            "Cost after epoch 26: 0.000267\n",
            "Cost after epoch 27: 0.000290\n",
            "Cost after epoch 28: 0.000375\n",
            "Cost after epoch 29: 0.000246\n"
          ],
          "name": "stdout"
        },
        {
          "output_type": "display_data",
          "data": {
            "image/png": "[encoded data removed]",
            "text/plain": [
              "<Figure size 432x288 with 1 Axes>"
            ]
          },
          "metadata": {
            "tags": [],
            "needs_background": "light"
          }
        },
        {
          "output_type": "stream",
          "text": [
            "Tensor(\"Mean_1:0\", shape=(), dtype=float32)\n",
            "Accuracies:\n",
            "Train Accuracy: 0.80539095\n",
            "Test Accuracy: 0.7551852\n"
          ],
          "name": "stdout"
        }
      ]
    },
    {
      "cell_type": "code",
      "metadata": {
        "id": "8zLvcxwspD_B"
      },
      "source": [
        "#Saving weights.\n",
        "#model = create_model()\n",
        "model.save_weights('./checkpoints/my_checkpoint')\n",
        "\n",
        "model = create_model()\n",
        "\n",
        "#Restoring weights.\n",
        "model.load_weights('./checkpoints/my__checkpoint')"
      ],
      "execution_count": null,
      "outputs": []
    },
    {
      "cell_type": "code",
      "metadata": {
        "id": "h7xv8TEn1JGi"
      },
      "source": [
        ""
      ],
      "execution_count": null,
      "outputs": []
    },
    {
      "cell_type": "code",
      "metadata": {
        "id": "kpVb-e5fmj57",
        "colab": {
          "base_uri": "https://localhost:8080/",
          "height": 873
        },
        "outputId": "d6fb6d1c-60c9-494a-9b5e-7baab30959a1"
      },
      "source": [
        "_,_, parameters = model(X_train, Y_train, X_test, Y_test)"
      ],
      "execution_count": null,
      "outputs": [
        {
          "output_type": "stream",
          "text": [
            "Cost after epoch 0: 0.000665\n",
            "Cost after epoch 1: 0.000355\n",
            "Cost after epoch 2: 0.000223\n",
            "Cost after epoch 3: 0.000148\n",
            "Cost after epoch 4: 0.000273\n",
            "Cost after epoch 5: 0.000134\n",
            "Cost after epoch 6: 0.000112\n",
            "Cost after epoch 7: 0.000056\n",
            "Cost after epoch 8: 0.000122\n",
            "Cost after epoch 9: 0.000053\n",
            "Cost after epoch 10: 0.000071\n",
            "Cost after epoch 11: 0.000041\n",
            "Cost after epoch 12: 0.000086\n",
            "Cost after epoch 13: 0.000080\n",
            "Cost after epoch 14: 0.000069\n",
            "Cost after epoch 15: 0.000167\n",
            "Cost after epoch 16: 0.000214\n",
            "Cost after epoch 17: 0.000043\n",
            "Cost after epoch 18: 0.000034\n",
            "Cost after epoch 19: 0.000016\n",
            "Cost after epoch 20: 0.000015\n",
            "Cost after epoch 21: 0.000015\n",
            "Cost after epoch 22: 0.000030\n",
            "Cost after epoch 23: 0.000010\n",
            "Cost after epoch 24: 0.000060\n",
            "Cost after epoch 25: 0.000080\n",
            "Cost after epoch 26: 0.000033\n",
            "Cost after epoch 27: 0.000009\n",
            "Cost after epoch 28: 0.000042\n",
            "Cost after epoch 29: 0.000013\n"
          ],
          "name": "stdout"
        },
        {
          "output_type": "display_data",
          "data": {
            "image/png": "[encoded data removed]",
            "text/plain": [
              "<Figure size 432x288 with 1 Axes>"
            ]
          },
          "metadata": {
            "tags": [],
            "needs_background": "light"
          }
        },
        {
          "output_type": "stream",
          "text": [
            "Tensor(\"Mean_1:0\", shape=(), dtype=float32)\n",
            "Accuracies:\n",
            "Train Accuracy: 0.9590535\n",
            "Test Accuracy: 0.78555554\n"
          ],
          "name": "stdout"
        }
      ]
    },
    {
      "cell_type": "markdown",
      "metadata": {
        "id": "bXeQS9Pz1Lql"
      },
      "source": [
        "**With Regularization**"
      ]
    },
    {
      "cell_type": "code",
      "metadata": {
        "id": "MsVj5i-l1Gnb",
        "colab": {
          "base_uri": "https://localhost:8080/",
          "height": 533
        },
        "outputId": "2f562b31-69ed-461a-a2b0-4cf08751eaed"
      },
      "source": [
        "_,_, parameters = model(X_train, Y_train, X_test, Y_test)"
      ],
      "execution_count": null,
      "outputs": [
        {
          "output_type": "stream",
          "text": [
            "Cost after epoch 0: 0.000753\n",
            "Cost after epoch 1: 0.000460\n",
            "Cost after epoch 2: 0.000391\n",
            "Cost after epoch 3: 0.000415\n",
            "Cost after epoch 4: 0.000249\n",
            "Cost after epoch 5: 0.000294\n",
            "Cost after epoch 6: 0.000268\n",
            "Cost after epoch 7: 0.000285\n",
            "Cost after epoch 8: 0.000230\n",
            "Cost after epoch 9: 0.000201\n"
          ],
          "name": "stdout"
        },
        {
          "output_type": "display_data",
          "data": {
            "image/png": "[encoded data removed]",
            "text/plain": [
              "<Figure size 432x288 with 1 Axes>"
            ]
          },
          "metadata": {
            "tags": [],
            "needs_background": "light"
          }
        },
        {
          "output_type": "stream",
          "text": [
            "Tensor(\"Mean_1:0\", shape=(), dtype=float32)\n",
            "Accuracies:\n",
            "Train Accuracy: 0.86020577\n",
            "Test Accuracy: 0.7918519\n"
          ],
          "name": "stdout"
        }
      ]
    },
    {
      "cell_type": "code",
      "metadata": {
        "id": "Pdcm1SaYCNVa",
        "colab": {
          "base_uri": "https://localhost:8080/",
          "height": 533
        },
        "outputId": "69e232c7-f7ab-418c-dc74-99114e990595"
      },
      "source": [
        "_,_, parameters = model(X_train, Y_train, X_test, Y_test)"
      ],
      "execution_count": null,
      "outputs": [
        {
          "output_type": "stream",
          "text": [
            "Cost after epoch 0: 0.002429\n",
            "Cost after epoch 1: 0.001448\n",
            "Cost after epoch 2: 0.001352\n",
            "Cost after epoch 3: 0.001381\n",
            "Cost after epoch 4: 0.001123\n",
            "Cost after epoch 5: 0.001090\n",
            "Cost after epoch 6: 0.001124\n",
            "Cost after epoch 7: 0.001131\n",
            "Cost after epoch 8: 0.000883\n",
            "Cost after epoch 9: 0.000841\n"
          ],
          "name": "stdout"
        },
        {
          "output_type": "display_data",
          "data": {
            "image/png": "[encoded data removed]",
            "text/plain": [
              "<Figure size 432x288 with 1 Axes>"
            ]
          },
          "metadata": {
            "tags": [],
            "needs_background": "light"
          }
        },
        {
          "output_type": "stream",
          "text": [
            "Tensor(\"Mean_1:0\", shape=(), dtype=float32)\n",
            "Accuracies:\n",
            "Train Accuracy: 0.67703706\n",
            "Test Accuracy: 0.6566667\n"
          ],
          "name": "stdout"
        }
      ]
    },
    {
      "cell_type": "code",
      "metadata": {
        "id": "k8_rKgcyFuMp",
        "colab": {
          "base_uri": "https://localhost:8080/",
          "height": 533
        },
        "outputId": "dbddbc14-a7de-4422-d057-4f631b347dee"
      },
      "source": [
        "_,_, parameters = model(X_train, Y_train, X_test, Y_test)"
      ],
      "execution_count": null,
      "outputs": [
        {
          "output_type": "stream",
          "text": [
            "Cost after epoch 0: 0.000648\n",
            "Cost after epoch 1: 0.000223\n",
            "Cost after epoch 2: 0.000175\n",
            "Cost after epoch 3: 0.000190\n",
            "Cost after epoch 4: 0.000125\n",
            "Cost after epoch 5: 0.000183\n",
            "Cost after epoch 6: 0.000107\n",
            "Cost after epoch 7: 0.000088\n",
            "Cost after epoch 8: 0.000091\n",
            "Cost after epoch 9: 0.000116\n"
          ],
          "name": "stdout"
        },
        {
          "output_type": "display_data",
          "data": {
            "image/png": "[encoded data removed]",
            "text/plain": [
              "<Figure size 432x288 with 1 Axes>"
            ]
          },
          "metadata": {
            "tags": [],
            "needs_background": "light"
          }
        },
        {
          "output_type": "stream",
          "text": [
            "Tensor(\"Mean_1:0\", shape=(), dtype=float32)\n",
            "Accuracies:\n",
            "Train Accuracy: 0.84720165\n",
            "Test Accuracy: 0.7674074\n"
          ],
          "name": "stdout"
        }
      ]
    },
    {
      "cell_type": "code",
      "metadata": {
        "id": "-twKJkw3IhuP",
        "colab": {
          "base_uri": "https://localhost:8080/",
          "height": 533
        },
        "outputId": "b6417b5f-b69f-4aff-c3da-cc375d788964"
      },
      "source": [
        "_,_, parameters = model(X_train, Y_train, X_test, Y_test)"
      ],
      "execution_count": null,
      "outputs": [
        {
          "output_type": "stream",
          "text": [
            "Cost after epoch 0: 0.000782\n",
            "Cost after epoch 1: 0.000410\n",
            "Cost after epoch 2: 0.000348\n",
            "Cost after epoch 3: 0.000383\n",
            "Cost after epoch 4: 0.000259\n",
            "Cost after epoch 5: 0.000280\n",
            "Cost after epoch 6: 0.000194\n",
            "Cost after epoch 7: 0.000329\n",
            "Cost after epoch 8: 0.000235\n",
            "Cost after epoch 9: 0.000294\n"
          ],
          "name": "stdout"
        },
        {
          "output_type": "display_data",
          "data": {
            "image/png": "[encoded data removed]",
            "text/plain": [
              "<Figure size 432x288 with 1 Axes>"
            ]
          },
          "metadata": {
            "tags": [],
            "needs_background": "light"
          }
        },
        {
          "output_type": "stream",
          "text": [
            "Tensor(\"Mean_1:0\", shape=(), dtype=float32)\n",
            "Accuracies:\n",
            "Train Accuracy: 0.8369136\n",
            "Test Accuracy: 0.75777775\n"
          ],
          "name": "stdout"
        }
      ]
    },
    {
      "cell_type": "code",
      "metadata": {
        "id": "ve_stcd7KGGs",
        "colab": {
          "base_uri": "https://localhost:8080/",
          "height": 873
        },
        "outputId": "997d9325-c147-4eef-bc52-2b01872cc868"
      },
      "source": [
        "_,_, parameters = model(X_train, Y_train, X_test, Y_test)"
      ],
      "execution_count": null,
      "outputs": [
        {
          "output_type": "stream",
          "text": [
            "Cost after epoch 0: 0.002235\n",
            "Cost after epoch 1: 0.001334\n",
            "Cost after epoch 2: 0.001392\n",
            "Cost after epoch 3: 0.001743\n",
            "Cost after epoch 4: 0.001102\n",
            "Cost after epoch 5: 0.001196\n",
            "Cost after epoch 6: 0.001165\n",
            "Cost after epoch 7: 0.000969\n",
            "Cost after epoch 8: 0.000932\n",
            "Cost after epoch 9: 0.000805\n",
            "Cost after epoch 10: 0.000773\n",
            "Cost after epoch 11: 0.000888\n",
            "Cost after epoch 12: 0.000882\n",
            "Cost after epoch 13: 0.000805\n",
            "Cost after epoch 14: 0.000855\n",
            "Cost after epoch 15: 0.000956\n",
            "Cost after epoch 16: 0.000953\n",
            "Cost after epoch 17: 0.000662\n",
            "Cost after epoch 18: 0.000729\n",
            "Cost after epoch 19: 0.000674\n",
            "Cost after epoch 20: 0.000700\n",
            "Cost after epoch 21: 0.000686\n",
            "Cost after epoch 22: 0.000821\n",
            "Cost after epoch 23: 0.000561\n",
            "Cost after epoch 24: 0.000748\n",
            "Cost after epoch 25: 0.000705\n",
            "Cost after epoch 26: 0.000669\n",
            "Cost after epoch 27: 0.000733\n",
            "Cost after epoch 28: 0.000661\n",
            "Cost after epoch 29: 0.000653\n"
          ],
          "name": "stdout"
        },
        {
          "output_type": "display_data",
          "data": {
            "image/png": "[encoded data removed]",
            "text/plain": [
              "<Figure size 432x288 with 1 Axes>"
            ]
          },
          "metadata": {
            "tags": [],
            "needs_background": "light"
          }
        },
        {
          "output_type": "stream",
          "text": [
            "Tensor(\"Mean_1:0\", shape=(), dtype=float32)\n",
            "Accuracies:\n",
            "Train Accuracy: 0.7668724\n",
            "Test Accuracy: 0.7162963\n"
          ],
          "name": "stdout"
        }
      ]
    },
    {
      "cell_type": "code",
      "metadata": {
        "id": "yyjj-ACgPJMW",
        "colab": {
          "base_uri": "https://localhost:8080/",
          "height": 1000
        },
        "outputId": "59047d97-9242-4cbd-ed30-d90d0edc41aa"
      },
      "source": [
        "_,_, parameters = model(X_train, Y_train, X_test, Y_test)"
      ],
      "execution_count": null,
      "outputs": [
        {
          "output_type": "stream",
          "text": [
            "Cost after epoch 0: 0.002216\n",
            "Cost after epoch 1: 0.001315\n",
            "Cost after epoch 2: 0.001311\n",
            "Cost after epoch 3: 0.001462\n",
            "Cost after epoch 5: 0.001266\n",
            "Cost after epoch 6: 0.001277\n",
            "Cost after epoch 7: 0.001023\n",
            "Cost after epoch 8: 0.000840\n",
            "Cost after epoch 9: 0.000805\n",
            "Cost after epoch 10: 0.000786\n",
            "Cost after epoch 11: 0.000927\n",
            "Cost after epoch 12: 0.000798\n",
            "Cost after epoch 13: 0.000788\n",
            "Cost after epoch 14: 0.000862\n",
            "Cost after epoch 15: 0.001000\n",
            "Cost after epoch 16: 0.000831\n",
            "Cost after epoch 17: 0.000669\n",
            "Cost after epoch 18: 0.000811\n",
            "Cost after epoch 19: 0.000584\n",
            "Cost after epoch 20: 0.000680\n",
            "Cost after epoch 21: 0.000729\n",
            "Cost after epoch 22: 0.000780\n",
            "Cost after epoch 23: 0.000619\n",
            "Cost after epoch 24: 0.000785\n",
            "Cost after epoch 25: 0.000795\n",
            "Cost after epoch 26: 0.000631\n",
            "Cost after epoch 27: 0.000628\n",
            "Cost after epoch 28: 0.000722\n",
            "Cost after epoch 29: 0.000708\n",
            "Cost after epoch 30: 0.000656\n",
            "Cost after epoch 31: 0.000675\n",
            "Cost after epoch 32: 0.000727\n",
            "Cost after epoch 33: 0.000653\n",
            "Cost after epoch 34: 0.000656\n",
            "Cost after epoch 35: 0.000631\n",
            "Cost after epoch 36: 0.000735\n",
            "Cost after epoch 37: 0.000869\n",
            "Cost after epoch 38: 0.000935\n",
            "Cost after epoch 39: 0.000635\n",
            "Cost after epoch 40: 0.000639\n",
            "Cost after epoch 41: 0.000765\n",
            "Cost after epoch 42: 0.000751\n",
            "Cost after epoch 43: 0.000566\n",
            "Cost after epoch 44: 0.000668\n",
            "Cost after epoch 45: 0.000558\n",
            "Cost after epoch 46: 0.000638\n",
            "Cost after epoch 47: 0.000794\n",
            "Cost after epoch 48: 0.000635\n",
            "Cost after epoch 49: 0.000692\n",
            "Cost after epoch 50: 0.000611\n",
            "Cost after epoch 51: 0.000676\n",
            "Cost after epoch 52: 0.000535\n",
            "Cost after epoch 53: 0.000525\n",
            "Cost after epoch 54: 0.000724\n",
            "Cost after epoch 55: 0.000655\n",
            "Cost after epoch 56: 0.000933\n",
            "Cost after epoch 57: 0.000598\n",
            "Cost after epoch 58: 0.000694\n",
            "Cost after epoch 59: 0.000738\n"
          ],
          "name": "stdout"
        },
        {
          "output_type": "display_data",
          "data": {
            "image/png": "[encoded data removed]",
            "text/plain": [
              "<Figure size 432x288 with 1 Axes>"
            ]
          },
          "metadata": {
            "tags": [],
            "needs_background": "light"
          }
        },
        {
          "output_type": "stream",
          "text": [
            "Tensor(\"Mean_1:0\", shape=(), dtype=float32)\n",
            "Accuracies:\n",
            "Train Accuracy: 0.7818107\n",
            "Test Accuracy: 0.71592593\n"
          ],
          "name": "stdout"
        }
      ]
    },
    {
      "cell_type": "code",
      "metadata": {
        "id": "5X1UBqtvZxfq",
        "colab": {
          "base_uri": "https://localhost:8080/",
          "height": 873
        },
        "outputId": "dd3b6b4b-2eb1-4fa9-8743-b1653319149c"
      },
      "source": [
        "_,_, parameters = model(X_train, Y_train, X_test, Y_test)"
      ],
      "execution_count": null,
      "outputs": [
        {
          "output_type": "stream",
          "text": [
            "Cost after epoch 0: 0.002292\n",
            "Cost after epoch 1: 0.001691\n",
            "Cost after epoch 2: 0.001362\n",
            "Cost after epoch 3: 0.001598\n",
            "Cost after epoch 4: 0.001173\n",
            "Cost after epoch 5: 0.001374\n",
            "Cost after epoch 6: 0.001308\n",
            "Cost after epoch 7: 0.001150\n",
            "Cost after epoch 8: 0.000941\n",
            "Cost after epoch 9: 0.001005\n",
            "Cost after epoch 10: 0.000898\n",
            "Cost after epoch 11: 0.000920\n",
            "Cost after epoch 12: 0.001006\n",
            "Cost after epoch 13: 0.000871\n",
            "Cost after epoch 14: 0.001080\n",
            "Cost after epoch 15: 0.001105\n",
            "Cost after epoch 16: 0.000894\n",
            "Cost after epoch 17: 0.000715\n",
            "Cost after epoch 18: 0.000800\n",
            "Cost after epoch 19: 0.000758\n",
            "Cost after epoch 20: 0.000785\n",
            "Cost after epoch 21: 0.001073\n",
            "Cost after epoch 22: 0.000852\n",
            "Cost after epoch 23: 0.000675\n",
            "Cost after epoch 24: 0.000739\n",
            "Cost after epoch 25: 0.000639\n",
            "Cost after epoch 26: 0.000864\n",
            "Cost after epoch 27: 0.001017\n",
            "Cost after epoch 28: 0.000765\n",
            "Cost after epoch 29: 0.000722\n"
          ],
          "name": "stdout"
        },
        {
          "output_type": "display_data",
          "data": {
            "image/png": "[encoded data removed]",
            "text/plain": [
              "<Figure size 432x288 with 1 Axes>"
            ]
          },
          "metadata": {
            "tags": [],
            "needs_background": "light"
          }
        },
        {
          "output_type": "stream",
          "text": [
            "Tensor(\"Mean_1:0\", shape=(), dtype=float32)\n",
            "Accuracies:\n",
            "Train Accuracy: 0.7668313\n",
            "Test Accuracy: 0.7033333\n"
          ],
          "name": "stdout"
        }
      ]
    },
    {
      "cell_type": "code",
      "metadata": {
        "id": "EP5AtaqqeoAV",
        "colab": {
          "base_uri": "https://localhost:8080/",
          "height": 1000
        },
        "outputId": "e21e708a-c3aa-44fd-b5ff-fb8bbc98dfc0"
      },
      "source": [
        "_,_, parameters = model(X_train, Y_train, X_test, Y_test)"
      ],
      "execution_count": null,
      "outputs": [
        {
          "output_type": "stream",
          "text": [
            "Cost after epoch 0: 0.002307\n",
            "Cost after epoch 1: 0.001452\n",
            "Cost after epoch 2: 0.001298\n",
            "Cost after epoch 3: 0.001419\n",
            "Cost after epoch 4: 0.001205\n",
            "Cost after epoch 5: 0.001299\n",
            "Cost after epoch 6: 0.001161\n",
            "Cost after epoch 7: 0.001130\n",
            "Cost after epoch 8: 0.000900\n",
            "Cost after epoch 9: 0.001078\n",
            "Cost after epoch 10: 0.000827\n",
            "Cost after epoch 11: 0.000809\n",
            "Cost after epoch 12: 0.000879\n",
            "Cost after epoch 13: 0.000794\n",
            "Cost after epoch 14: 0.000913\n",
            "Cost after epoch 15: 0.001041\n",
            "Cost after epoch 16: 0.000843\n",
            "Cost after epoch 17: 0.000603\n",
            "Cost after epoch 18: 0.000779\n",
            "Cost after epoch 19: 0.000612\n",
            "Cost after epoch 20: 0.000727\n",
            "Cost after epoch 21: 0.000683\n",
            "Cost after epoch 22: 0.000794\n",
            "Cost after epoch 23: 0.000658\n",
            "Cost after epoch 24: 0.000679\n",
            "Cost after epoch 25: 0.000652\n",
            "Cost after epoch 26: 0.000641\n",
            "Cost after epoch 27: 0.000611\n",
            "Cost after epoch 28: 0.000714\n",
            "Cost after epoch 29: 0.000639\n",
            "Cost after epoch 30: 0.000613\n",
            "Cost after epoch 31: 0.000619\n",
            "Cost after epoch 32: 0.000578\n",
            "Cost after epoch 33: 0.000725\n",
            "Cost after epoch 34: 0.000608\n",
            "Cost after epoch 35: 0.000695\n",
            "Cost after epoch 36: 0.000612\n",
            "Cost after epoch 37: 0.000739\n",
            "Cost after epoch 38: 0.000677\n",
            "Cost after epoch 39: 0.000570\n",
            "Cost after epoch 40: 0.000713\n",
            "Cost after epoch 41: 0.000631\n",
            "Cost after epoch 42: 0.000699\n",
            "Cost after epoch 43: 0.000628\n",
            "Cost after epoch 44: 0.000606\n",
            "Cost after epoch 45: 0.000702\n",
            "Cost after epoch 46: 0.000616\n",
            "Cost after epoch 47: 0.000674\n",
            "Cost after epoch 48: 0.000571\n",
            "Cost after epoch 49: 0.000614\n",
            "Cost after epoch 50: 0.000496\n",
            "Cost after epoch 51: 0.000520\n",
            "Cost after epoch 52: 0.000532\n",
            "Cost after epoch 53: 0.000583\n",
            "Cost after epoch 54: 0.000613\n",
            "Cost after epoch 55: 0.000537\n",
            "Cost after epoch 56: 0.002006\n",
            "Cost after epoch 57: 0.000589\n",
            "Cost after epoch 58: 0.000592\n",
            "Cost after epoch 59: 0.000616\n",
            "Cost after epoch 60: 0.000676\n",
            "Cost after epoch 61: 0.000607\n",
            "Cost after epoch 62: 0.000510\n",
            "Cost after epoch 63: 0.000471\n",
            "Cost after epoch 64: 0.000544\n",
            "Cost after epoch 65: 0.000506\n",
            "Cost after epoch 66: 0.000686\n",
            "Cost after epoch 67: 0.000622\n",
            "Cost after epoch 68: 0.000624\n",
            "Cost after epoch 69: 0.000548\n",
            "Cost after epoch 70: 0.000776\n",
            "Cost after epoch 71: 0.000578\n",
            "Cost after epoch 72: 0.000537\n",
            "Cost after epoch 73: 0.000601\n",
            "Cost after epoch 74: 0.000706\n",
            "Cost after epoch 75: 0.000577\n",
            "Cost after epoch 76: 0.000525\n",
            "Cost after epoch 77: 0.000649\n",
            "Cost after epoch 78: 0.000546\n",
            "Cost after epoch 79: 0.000550\n",
            "Cost after epoch 80: 0.000724\n",
            "Cost after epoch 81: 0.000538\n",
            "Cost after epoch 82: 0.000505\n",
            "Cost after epoch 83: 0.000542\n",
            "Cost after epoch 84: 0.000730\n",
            "Cost after epoch 85: 0.000477\n",
            "Cost after epoch 86: 0.000592\n",
            "Cost after epoch 87: 0.000552\n",
            "Cost after epoch 88: 0.000551\n",
            "Cost after epoch 89: 0.000586\n",
            "Cost after epoch 90: 0.000539\n",
            "Cost after epoch 91: 0.000459\n",
            "Cost after epoch 92: 0.000490\n",
            "Cost after epoch 93: 0.000589\n",
            "Cost after epoch 94: 0.000651\n",
            "Cost after epoch 95: 0.000527\n",
            "Cost after epoch 96: 0.000569\n",
            "Cost after epoch 97: 0.000481\n",
            "Cost after epoch 98: 0.000522\n",
            "Cost after epoch 99: 0.000466\n"
          ],
          "name": "stdout"
        },
        {
          "output_type": "display_data",
          "data": {
            "image/png": "[encoded data removed]",
            "text/plain": [
              "<Figure size 432x288 with 1 Axes>"
            ]
          },
          "metadata": {
            "tags": [],
            "needs_background": "light"
          }
        },
        {
          "output_type": "stream",
          "text": [
            "Tensor(\"Mean_1:0\", shape=(), dtype=float32)\n",
            "Accuracies:\n",
            "Train Accuracy: 0.8176543\n",
            "Test Accuracy: 0.74444443\n"
          ],
          "name": "stdout"
        }
      ]
    },
    {
      "cell_type": "code",
      "metadata": {
        "id": "FsAPuvTIyrBB",
        "colab": {
          "base_uri": "https://localhost:8080/",
          "height": 1000
        },
        "outputId": "c97476a0-4891-4c25-f502-337b63444b45"
      },
      "source": [
        "_,_, parameters = model(X_train, Y_train, X_test, Y_test)"
      ],
      "execution_count": null,
      "outputs": [
        {
          "output_type": "stream",
          "text": [
            "WARNING:tensorflow:From <ipython-input-15-8b8827b13c9a>:6: softmax_cross_entropy_with_logits (from tensorflow.python.ops.nn_ops) is deprecated and will be removed in a future version.\n",
            "Instructions for updating:\n",
            "\n",
            "Future major versions of TensorFlow will allow gradients to flow\n",
            "into the labels input on backprop by default.\n",
            "\n",
            "See `tf.nn.softmax_cross_entropy_with_logits_v2`.\n",
            "\n"
          ],
          "name": "stdout"
        },
        {
          "output_type": "stream",
          "text": [
            "WARNING:tensorflow:From <ipython-input-15-8b8827b13c9a>:6: softmax_cross_entropy_with_logits (from tensorflow.python.ops.nn_ops) is deprecated and will be removed in a future version.\n",
            "Instructions for updating:\n",
            "\n",
            "Future major versions of TensorFlow will allow gradients to flow\n",
            "into the labels input on backprop by default.\n",
            "\n",
            "See `tf.nn.softmax_cross_entropy_with_logits_v2`.\n",
            "\n"
          ],
          "name": "stderr"
        },
        {
          "output_type": "stream",
          "text": [
            "Cost after epoch 0: 0.002429\n",
            "Cost after epoch 1: 0.001341\n",
            "Cost after epoch 2: 0.001405\n",
            "Cost after epoch 3: 0.001030\n",
            "Cost after epoch 4: 0.001296\n",
            "Cost after epoch 5: 0.001078\n",
            "Cost after epoch 6: 0.000995\n",
            "Cost after epoch 7: 0.001180\n",
            "Cost after epoch 8: 0.000926\n",
            "Cost after epoch 9: 0.000910\n",
            "Cost after epoch 10: 0.000865\n",
            "Cost after epoch 11: 0.001062\n",
            "Cost after epoch 12: 0.000818\n",
            "Cost after epoch 13: 0.000790\n",
            "Cost after epoch 14: 0.000857\n",
            "Cost after epoch 15: 0.000941\n",
            "Cost after epoch 16: 0.000966\n",
            "Cost after epoch 17: 0.000837\n",
            "Cost after epoch 18: 0.000749\n",
            "Cost after epoch 19: 0.001040\n",
            "Cost after epoch 20: 0.000709\n",
            "Cost after epoch 21: 0.001063\n",
            "Cost after epoch 22: 0.000695\n",
            "Cost after epoch 23: 0.000780\n",
            "Cost after epoch 24: 0.001016\n",
            "Cost after epoch 25: 0.000739\n",
            "Cost after epoch 26: 0.000946\n",
            "Cost after epoch 27: 0.000681\n",
            "Cost after epoch 28: 0.000789\n",
            "Cost after epoch 29: 0.001175\n",
            "Cost after epoch 30: 0.000856\n",
            "Cost after epoch 31: 0.000710\n",
            "Cost after epoch 32: 0.000695\n",
            "Cost after epoch 33: 0.000666\n",
            "Cost after epoch 34: 0.000813\n",
            "Cost after epoch 35: 0.000906\n",
            "Cost after epoch 36: 0.000547\n",
            "Cost after epoch 37: 0.000687\n",
            "Cost after epoch 38: 0.000647\n",
            "Cost after epoch 39: 0.000589\n",
            "Cost after epoch 40: 0.000691\n",
            "Cost after epoch 41: 0.000709\n",
            "Cost after epoch 42: 0.000690\n",
            "Cost after epoch 43: 0.000610\n",
            "Cost after epoch 44: 0.000723\n",
            "Cost after epoch 45: 0.000609\n",
            "Cost after epoch 46: 0.000640\n",
            "Cost after epoch 47: 0.000549\n",
            "Cost after epoch 48: 0.000723\n",
            "Cost after epoch 49: 0.000525\n",
            "Cost after epoch 50: 0.000534\n",
            "Cost after epoch 51: 0.000588\n",
            "Cost after epoch 52: 0.000546\n",
            "Cost after epoch 53: 0.000719\n",
            "Cost after epoch 54: 0.000489\n",
            "Cost after epoch 55: 0.000580\n",
            "Cost after epoch 56: 0.000715\n",
            "Cost after epoch 57: 0.000764\n",
            "Cost after epoch 58: 0.000668\n",
            "Cost after epoch 59: 0.000746\n",
            "Cost after epoch 60: 0.000556\n",
            "Cost after epoch 61: 0.000523\n",
            "Cost after epoch 62: 0.000676\n",
            "Cost after epoch 63: 0.000479\n",
            "Cost after epoch 64: 0.000541\n",
            "Cost after epoch 65: 0.000594\n",
            "Cost after epoch 66: 0.000616\n",
            "Cost after epoch 67: 0.000604\n",
            "Cost after epoch 68: 0.000570\n",
            "Cost after epoch 69: 0.000635\n",
            "Cost after epoch 70: 0.000538\n",
            "Cost after epoch 71: 0.000503\n",
            "Cost after epoch 72: 0.000628\n",
            "Cost after epoch 73: 0.000612\n",
            "Cost after epoch 74: 0.000568\n",
            "Cost after epoch 75: 0.000537\n",
            "Cost after epoch 76: 0.000548\n",
            "Cost after epoch 77: 0.000497\n",
            "Cost after epoch 78: 0.000678\n",
            "Cost after epoch 79: 0.000574\n",
            "Cost after epoch 80: 0.000529\n",
            "Cost after epoch 81: 0.000636\n",
            "Cost after epoch 82: 0.000429\n",
            "Cost after epoch 83: 0.000469\n",
            "Cost after epoch 84: 0.000516\n",
            "Cost after epoch 85: 0.000600\n",
            "Cost after epoch 86: 0.000545\n",
            "Cost after epoch 87: 0.000587\n",
            "Cost after epoch 88: 0.000538\n",
            "Cost after epoch 89: 0.000655\n",
            "Cost after epoch 90: 0.000511\n",
            "Cost after epoch 91: 0.000430\n",
            "Cost after epoch 92: 0.000510\n",
            "Cost after epoch 93: 0.000702\n",
            "Cost after epoch 94: 0.000472\n",
            "Cost after epoch 95: 0.000479\n",
            "Cost after epoch 96: 0.000589\n",
            "Cost after epoch 97: 0.000551\n",
            "Cost after epoch 98: 0.000586\n",
            "Cost after epoch 99: 0.000575\n"
          ],
          "name": "stdout"
        },
        {
          "output_type": "display_data",
          "data": {
            "image/png": "[encoded data removed]",
            "text/plain": [
              "<Figure size 432x288 with 1 Axes>"
            ]
          },
          "metadata": {
            "tags": [],
            "needs_background": "light"
          }
        },
        {
          "output_type": "stream",
          "text": [
            "Tensor(\"Mean_1:0\", shape=(), dtype=float32)\n",
            "Accuracies:\n",
            "Train Accuracy: 0.82707816\n",
            "Test Accuracy: 0.74666667\n"
          ],
          "name": "stdout"
        }
      ]
    },
    {
      "cell_type": "code",
      "metadata": {
        "id": "5mwrFLQ2jgg0",
        "colab": {
          "base_uri": "https://localhost:8080/",
          "height": 1000
        },
        "outputId": "2c4c3352-cde7-4af1-f636-4fb592da206b"
      },
      "source": [
        "_,_, parameters = model(X_train, Y_train, X_test, Y_test)"
      ],
      "execution_count": null,
      "outputs": [
        {
          "output_type": "stream",
          "text": [
            "WARNING:tensorflow:From /usr/local/lib/python3.6/dist-packages/tensorflow_core/contrib/layers/python/layers/layers.py:1634: flatten (from tensorflow.python.layers.core) is deprecated and will be removed in a future version.\n",
            "Instructions for updating:\n",
            "Use keras.layers.flatten instead.\n"
          ],
          "name": "stdout"
        },
        {
          "output_type": "stream",
          "text": [
            "WARNING:tensorflow:From /usr/local/lib/python3.6/dist-packages/tensorflow_core/contrib/layers/python/layers/layers.py:1634: flatten (from tensorflow.python.layers.core) is deprecated and will be removed in a future version.\n",
            "Instructions for updating:\n",
            "Use keras.layers.flatten instead.\n"
          ],
          "name": "stderr"
        },
        {
          "output_type": "stream",
          "text": [
            "WARNING:tensorflow:From /usr/local/lib/python3.6/dist-packages/tensorflow_core/python/layers/core.py:332: Layer.apply (from tensorflow.python.keras.engine.base_layer) is deprecated and will be removed in a future version.\n",
            "Instructions for updating:\n",
            "Please use `layer.__call__` method instead.\n"
          ],
          "name": "stdout"
        },
        {
          "output_type": "stream",
          "text": [
            "WARNING:tensorflow:From /usr/local/lib/python3.6/dist-packages/tensorflow_core/python/layers/core.py:332: Layer.apply (from tensorflow.python.keras.engine.base_layer) is deprecated and will be removed in a future version.\n",
            "Instructions for updating:\n",
            "Please use `layer.__call__` method instead.\n"
          ],
          "name": "stderr"
        },
        {
          "output_type": "stream",
          "text": [
            "WARNING:tensorflow:From <ipython-input-12-4ed6308beb79>:6: softmax_cross_entropy_with_logits (from tensorflow.python.ops.nn_ops) is deprecated and will be removed in a future version.\n",
            "Instructions for updating:\n",
            "\n",
            "Future major versions of TensorFlow will allow gradients to flow\n",
            "into the labels input on backprop by default.\n",
            "\n",
            "See `tf.nn.softmax_cross_entropy_with_logits_v2`.\n",
            "\n"
          ],
          "name": "stdout"
        },
        {
          "output_type": "stream",
          "text": [
            "WARNING:tensorflow:From <ipython-input-12-4ed6308beb79>:6: softmax_cross_entropy_with_logits (from tensorflow.python.ops.nn_ops) is deprecated and will be removed in a future version.\n",
            "Instructions for updating:\n",
            "\n",
            "Future major versions of TensorFlow will allow gradients to flow\n",
            "into the labels input on backprop by default.\n",
            "\n",
            "See `tf.nn.softmax_cross_entropy_with_logits_v2`.\n",
            "\n"
          ],
          "name": "stderr"
        },
        {
          "output_type": "stream",
          "text": [
            "Cost after epoch 0: 0.000418\n",
            "Cost after epoch 1: 0.000280\n",
            "Cost after epoch 2: 0.000495\n",
            "Cost after epoch 3: 0.000163\n",
            "Cost after epoch 4: 0.000146\n",
            "Cost after epoch 5: 0.000164\n",
            "Cost after epoch 6: 0.000092\n",
            "Cost after epoch 7: 0.000073\n",
            "Cost after epoch 8: 0.000051\n",
            "Cost after epoch 9: 0.000058\n",
            "Cost after epoch 10: 0.000070\n",
            "Cost after epoch 11: 0.000083\n",
            "Cost after epoch 12: 0.000031\n",
            "Cost after epoch 13: 0.000113\n",
            "Cost after epoch 14: 0.000053\n",
            "Cost after epoch 15: 0.000016\n",
            "Cost after epoch 16: 0.000065\n",
            "Cost after epoch 17: 0.000068\n",
            "Cost after epoch 18: 0.000101\n",
            "Cost after epoch 19: 0.000066\n",
            "Cost after epoch 20: 0.000083\n",
            "Cost after epoch 21: 0.000042\n",
            "Cost after epoch 22: 0.000025\n",
            "Cost after epoch 23: 0.000015\n",
            "Cost after epoch 24: 0.000014\n",
            "Cost after epoch 25: 0.000013\n",
            "Cost after epoch 26: 0.000035\n",
            "Cost after epoch 27: 0.000045\n",
            "Cost after epoch 28: 0.000008\n",
            "Cost after epoch 29: 0.000006\n"
          ],
          "name": "stdout"
        },
        {
          "output_type": "display_data",
          "data": {
            "image/png": "[encoded data removed]",
            "text/plain": [
              "<Figure size 432x288 with 1 Axes>"
            ]
          },
          "metadata": {
            "tags": [],
            "needs_background": "light"
          }
        },
        {
          "output_type": "stream",
          "text": [
            "Tensor(\"Mean_1:0\", shape=(), dtype=float32)\n",
            "Accuracies:\n",
            "Train Accuracy: 0.9626749\n",
            "Test Accuracy: 0.7825926\n"
          ],
          "name": "stdout"
        }
      ]
    },
    {
      "cell_type": "code",
      "metadata": {
        "id": "V4k7PSIUoCoU",
        "colab": {
          "base_uri": "https://localhost:8080/",
          "height": 1000
        },
        "outputId": "bac3f9c1-bd8a-49cf-e84d-280720619b5f"
      },
      "source": [
        "_,_, parameters = model(X_train, Y_train, X_test, Y_test)"
      ],
      "execution_count": null,
      "outputs": [
        {
          "output_type": "stream",
          "text": [
            "Cost after epoch 0: 0.000567\n",
            "Cost after epoch 1: 0.000346\n",
            "Cost after epoch 2: 0.000423\n",
            "Cost after epoch 3: 0.000190\n",
            "Cost after epoch 4: 0.000123\n",
            "Cost after epoch 5: 0.000183\n",
            "Cost after epoch 6: 0.000092\n",
            "Cost after epoch 7: 0.000141\n",
            "Cost after epoch 8: 0.000098\n",
            "Cost after epoch 9: 0.000071\n",
            "Cost after epoch 10: 0.000087\n",
            "Cost after epoch 11: 0.000155\n",
            "Cost after epoch 12: 0.000084\n",
            "Cost after epoch 13: 0.000037\n",
            "Cost after epoch 14: 0.000037\n",
            "Cost after epoch 15: 0.000026\n",
            "Cost after epoch 16: 0.000043\n",
            "Cost after epoch 17: 0.000060\n",
            "Cost after epoch 18: 0.000026\n",
            "Cost after epoch 19: 0.000325\n",
            "Cost after epoch 20: 0.000080\n",
            "Cost after epoch 21: 0.000034\n",
            "Cost after epoch 22: 0.000048\n",
            "Cost after epoch 23: 0.000020\n",
            "Cost after epoch 24: 0.000021\n",
            "Cost after epoch 25: 0.000023\n",
            "Cost after epoch 26: 0.000019\n",
            "Cost after epoch 27: 0.000114\n",
            "Cost after epoch 28: 0.000021\n",
            "Cost after epoch 29: 0.000015\n",
            "Cost after epoch 30: 0.000006\n",
            "Cost after epoch 31: 0.000037\n",
            "Cost after epoch 32: 0.000017\n",
            "Cost after epoch 33: 0.000018\n",
            "Cost after epoch 34: 0.000024\n",
            "Cost after epoch 35: 0.000014\n",
            "Cost after epoch 36: 0.000021\n",
            "Cost after epoch 37: 0.000013\n",
            "Cost after epoch 38: 0.000039\n",
            "Cost after epoch 39: 0.000021\n",
            "Cost after epoch 40: 0.000043\n",
            "Cost after epoch 41: 0.000011\n",
            "Cost after epoch 42: 0.000029\n",
            "Cost after epoch 43: 0.000005\n",
            "Cost after epoch 44: 0.000011\n",
            "Cost after epoch 45: 0.000013\n",
            "Cost after epoch 46: 0.000045\n",
            "Cost after epoch 47: 0.000009\n",
            "Cost after epoch 48: 0.000013\n",
            "Cost after epoch 49: 0.000011\n"
          ],
          "name": "stdout"
        },
        {
          "output_type": "display_data",
          "data": {
            "image/png": "[encoded data removed]",
            "text/plain": [
              "<Figure size 432x288 with 1 Axes>"
            ]
          },
          "metadata": {
            "tags": [],
            "needs_background": "light"
          }
        },
        {
          "output_type": "stream",
          "text": [
            "Tensor(\"Mean_1:0\", shape=(), dtype=float32)\n",
            "Accuracies:\n",
            "Train Accuracy: 0.96563786\n",
            "Test Accuracy: 0.7725926\n"
          ],
          "name": "stdout"
        }
      ]
    },
    {
      "cell_type": "code",
      "metadata": {
        "id": "2p5VEtBqwbbt",
        "colab": {
          "base_uri": "https://localhost:8080/",
          "height": 1000
        },
        "outputId": "d4dea182-6f7d-48b4-a677-e8dd4901c865"
      },
      "source": [
        "_,_, parameters = model(X_train, Y_train, X_test, Y_test)"
      ],
      "execution_count": null,
      "outputs": [
        {
          "output_type": "stream",
          "text": [
            "Cost after epoch 0: 0.000484\n",
            "Cost after epoch 1: 0.000427\n",
            "Cost after epoch 2: 0.001021\n",
            "Cost after epoch 3: 0.000156\n",
            "Cost after epoch 4: 0.000497\n",
            "Cost after epoch 5: 0.000164\n",
            "Cost after epoch 6: 0.000084\n",
            "Cost after epoch 7: 0.000152\n",
            "Cost after epoch 8: 0.000045\n",
            "Cost after epoch 9: 0.000080\n",
            "Cost after epoch 10: 0.000063\n",
            "Cost after epoch 11: 0.000052\n",
            "Cost after epoch 12: 0.000108\n",
            "Cost after epoch 13: 0.000091\n",
            "Cost after epoch 14: 0.000046\n",
            "Cost after epoch 15: 0.000043\n",
            "Cost after epoch 16: 0.000048\n",
            "Cost after epoch 17: 0.000043\n",
            "Cost after epoch 18: 0.000056\n",
            "Cost after epoch 19: 0.000031\n",
            "Cost after epoch 20: 0.000052\n",
            "Cost after epoch 21: 0.000019\n",
            "Cost after epoch 22: 0.000029\n",
            "Cost after epoch 23: 0.000083\n",
            "Cost after epoch 24: 0.000025\n",
            "Cost after epoch 25: 0.000027\n",
            "Cost after epoch 26: 0.000068\n",
            "Cost after epoch 27: 0.000030\n",
            "Cost after epoch 28: 0.000049\n",
            "Cost after epoch 29: 0.000025\n",
            "Cost after epoch 30: 0.000017\n",
            "Cost after epoch 31: 0.000054\n",
            "Cost after epoch 32: 0.000048\n",
            "Cost after epoch 33: 0.000105\n",
            "Cost after epoch 34: 0.000018\n",
            "Cost after epoch 35: 0.000029\n",
            "Cost after epoch 36: 0.000031\n",
            "Cost after epoch 37: 0.000025\n",
            "Cost after epoch 38: 0.000018\n",
            "Cost after epoch 39: 0.000068\n",
            "Cost after epoch 40: 0.000035\n",
            "Cost after epoch 41: 0.000018\n",
            "Cost after epoch 42: 0.000023\n",
            "Cost after epoch 43: 0.000074\n",
            "Cost after epoch 44: 0.000026\n",
            "Cost after epoch 45: 0.000037\n",
            "Cost after epoch 46: 0.000024\n",
            "Cost after epoch 47: 0.000055\n",
            "Cost after epoch 48: 0.000179\n",
            "Cost after epoch 49: 0.000029\n"
          ],
          "name": "stdout"
        },
        {
          "output_type": "display_data",
          "data": {
            "image/png": "[encoded data removed]",
            "text/plain": [
              "<Figure size 432x288 with 1 Axes>"
            ]
          },
          "metadata": {
            "tags": [],
            "needs_background": "light"
          }
        },
        {
          "output_type": "stream",
          "text": [
            "Tensor(\"Mean_1:0\", shape=(), dtype=float32)\n",
            "Accuracies:\n",
            "Train Accuracy: 0.9657202\n",
            "Test Accuracy: 0.78407407\n"
          ],
          "name": "stdout"
        }
      ]
    },
    {
      "cell_type": "code",
      "metadata": {
        "id": "OjA2whBp-QVQ",
        "colab": {
          "base_uri": "https://localhost:8080/",
          "height": 1000
        },
        "outputId": "e9a1766d-6739-4aa2-dc7b-a8c9829cccb2"
      },
      "source": [
        "_,_, parameters = model(X_train, Y_train, X_test, Y_test)"
      ],
      "execution_count": null,
      "outputs": [
        {
          "output_type": "stream",
          "text": [
            "Cost after epoch 0: 0.000439\n",
            "Cost after epoch 1: 0.000406\n",
            "Cost after epoch 2: 0.000411\n",
            "Cost after epoch 3: 0.000223\n",
            "Cost after epoch 4: 0.000333\n",
            "Cost after epoch 5: 0.000192\n",
            "Cost after epoch 6: 0.000155\n",
            "Cost after epoch 7: 0.000171\n",
            "Cost after epoch 8: 0.000121\n",
            "Cost after epoch 9: 0.000119\n",
            "Cost after epoch 10: 0.000124\n",
            "Cost after epoch 11: 0.000130\n",
            "Cost after epoch 12: 0.000148\n",
            "Cost after epoch 13: 0.000158\n",
            "Cost after epoch 14: 0.000137\n",
            "Cost after epoch 15: 0.000117\n",
            "Cost after epoch 16: 0.000119\n",
            "Cost after epoch 17: 0.000118\n",
            "Cost after epoch 18: 0.000161\n",
            "Cost after epoch 19: 0.000173\n",
            "Cost after epoch 20: 0.000115\n",
            "Cost after epoch 21: 0.000121\n",
            "Cost after epoch 22: 0.000119\n",
            "Cost after epoch 23: 0.000234\n",
            "Cost after epoch 24: 0.000113\n",
            "Cost after epoch 25: 0.000150\n",
            "Cost after epoch 26: 0.000207\n",
            "Cost after epoch 27: 0.000113\n",
            "Cost after epoch 28: 0.000168\n",
            "Cost after epoch 29: 0.000136\n",
            "Cost after epoch 30: 0.000127\n",
            "Cost after epoch 31: 0.000163\n",
            "Cost after epoch 32: 0.000109\n",
            "Cost after epoch 33: 0.000131\n",
            "Cost after epoch 34: 0.000113\n",
            "Cost after epoch 35: 0.000151\n",
            "Cost after epoch 36: 0.000122\n",
            "Cost after epoch 37: 0.000120\n",
            "Cost after epoch 38: 0.000111\n",
            "Cost after epoch 39: 0.000149\n",
            "Cost after epoch 40: 0.000123\n",
            "Cost after epoch 41: 0.000120\n",
            "Cost after epoch 42: 0.000127\n",
            "Cost after epoch 43: 0.000123\n",
            "Cost after epoch 44: 0.000177\n",
            "Cost after epoch 45: 0.000118\n",
            "Cost after epoch 46: 0.000135\n",
            "Cost after epoch 47: 0.000137\n",
            "Cost after epoch 48: 0.000237\n",
            "Cost after epoch 49: 0.000112\n"
          ],
          "name": "stdout"
        },
        {
          "output_type": "display_data",
          "data": {
            "image/png": "[encoded data removed]",
            "text/plain": [
              "<Figure size 432x288 with 1 Axes>"
            ]
          },
          "metadata": {
            "tags": [],
            "needs_background": "light"
          }
        },
        {
          "output_type": "stream",
          "text": [
            "Tensor(\"Mean_1:0\", shape=(), dtype=float32)\n",
            "Accuracies:\n",
            "Train Accuracy: 0.96666664\n",
            "Test Accuracy: 0.7966667\n"
          ],
          "name": "stdout"
        }
      ]
    },
    {
      "cell_type": "markdown",
      "metadata": {
        "id": "_Wps1zOqJsyT"
      },
      "source": [
        "Reg scale above is 0.05"
      ]
    },
    {
      "cell_type": "code",
      "metadata": {
        "id": "LXYBQ4zFJxrU",
        "colab": {
          "base_uri": "https://localhost:8080/",
          "height": 1000
        },
        "outputId": "3abceb47-89cd-4a15-cb56-aff467abb33a"
      },
      "source": [
        "_,_, parameters = model(X_train, Y_train, X_test, Y_test)"
      ],
      "execution_count": null,
      "outputs": [
        {
          "output_type": "stream",
          "text": [
            "Cost after epoch 0: 0.000650\n",
            "Cost after epoch 1: 0.000465\n",
            "Cost after epoch 2: 0.000489\n",
            "Cost after epoch 3: 0.000259\n",
            "Cost after epoch 4: 0.000343\n",
            "Cost after epoch 5: 0.000338\n",
            "Cost after epoch 6: 0.000220\n",
            "Cost after epoch 7: 0.000239\n",
            "Cost after epoch 8: 0.000194\n",
            "Cost after epoch 9: 0.000191\n",
            "Cost after epoch 10: 0.000232\n",
            "Cost after epoch 11: 0.000223\n",
            "Cost after epoch 12: 0.000215\n",
            "Cost after epoch 13: 0.000242\n",
            "Cost after epoch 14: 0.000194\n",
            "Cost after epoch 15: 0.000219\n",
            "Cost after epoch 16: 0.000246\n",
            "Cost after epoch 17: 0.000189\n",
            "Cost after epoch 18: 0.000237\n",
            "Cost after epoch 19: 0.000207\n",
            "Cost after epoch 20: 0.000241\n",
            "Cost after epoch 21: 0.000177\n",
            "Cost after epoch 22: 0.000209\n",
            "Cost after epoch 23: 0.000208\n",
            "Cost after epoch 24: 0.000182\n",
            "Cost after epoch 25: 0.000216\n",
            "Cost after epoch 26: 0.000400\n",
            "Cost after epoch 27: 0.000166\n",
            "Cost after epoch 28: 0.000171\n",
            "Cost after epoch 29: 0.000178\n",
            "Cost after epoch 30: 0.000165\n",
            "Cost after epoch 31: 0.000196\n",
            "Cost after epoch 32: 0.000151\n",
            "Cost after epoch 33: 0.000214\n",
            "Cost after epoch 34: 0.000163\n",
            "Cost after epoch 35: 0.000176\n",
            "Cost after epoch 36: 0.000168\n",
            "Cost after epoch 37: 0.000191\n",
            "Cost after epoch 38: 0.000169\n",
            "Cost after epoch 39: 0.000173\n",
            "Cost after epoch 40: 0.000174\n",
            "Cost after epoch 41: 0.000202\n",
            "Cost after epoch 42: 0.000184\n",
            "Cost after epoch 43: 0.000196\n",
            "Cost after epoch 44: 0.000152\n",
            "Cost after epoch 45: 0.000275\n",
            "Cost after epoch 46: 0.000154\n",
            "Cost after epoch 47: 0.000170\n",
            "Cost after epoch 48: 0.000165\n",
            "Cost after epoch 49: 0.000153\n"
          ],
          "name": "stdout"
        },
        {
          "output_type": "display_data",
          "data": {
            "image/png": "[encoded data removed]",
            "text/plain": [
              "<Figure size 432x288 with 1 Axes>"
            ]
          },
          "metadata": {
            "tags": [],
            "needs_background": "light"
          }
        },
        {
          "output_type": "stream",
          "text": [
            "Tensor(\"Mean_1:0\", shape=(), dtype=float32)\n",
            "Accuracies:\n",
            "Train Accuracy: 0.94864196\n",
            "Test Accuracy: 0.79851854\n"
          ],
          "name": "stdout"
        }
      ]
    }
  ]
}
